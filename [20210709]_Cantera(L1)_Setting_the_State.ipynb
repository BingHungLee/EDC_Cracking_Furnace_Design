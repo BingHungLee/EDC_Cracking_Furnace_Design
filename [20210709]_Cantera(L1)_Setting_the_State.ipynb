{
  "nbformat": 4,
  "nbformat_minor": 0,
  "metadata": {
    "colab": {
      "name": "[20210709]_Cantera(L1)_Setting the State.ipynb",
      "provenance": [],
      "authorship_tag": "ABX9TyOlRvvh2H6uah7BKTEJjFhl",
      "include_colab_link": true
    },
    "kernelspec": {
      "name": "python3",
      "display_name": "Python 3"
    },
    "language_info": {
      "name": "python"
    }
  },
  "cells": [
    {
      "cell_type": "markdown",
      "metadata": {
        "id": "view-in-github",
        "colab_type": "text"
      },
      "source": [
        "<a href=\"https://colab.research.google.com/github/BingHungLee/EDC_Cracking_Furnace_Design/blob/main/%5B20210709%5D_Cantera(L1)_Setting_the_State.ipynb\" target=\"_parent\"><img src=\"https://colab.research.google.com/assets/colab-badge.svg\" alt=\"Open In Colab\"/></a>"
      ]
    },
    {
      "cell_type": "markdown",
      "metadata": {
        "id": "YcxNlWw57as0"
      },
      "source": [
        "https://cantera.org/tutorials/python-tutorial.html"
      ]
    },
    {
      "cell_type": "code",
      "metadata": {
        "colab": {
          "base_uri": "https://localhost:8080/"
        },
        "id": "9JPDwlIszvjg",
        "outputId": "a1b1ab92-ada5-46ef-f005-b635c04f62a2"
      },
      "source": [
        "################################################################################\n",
        "# INSTALL CONDA AND CANTERA ON GOOGLE COLAB\n",
        "################################################################################\n",
        "! wget https://repo.anaconda.com/miniconda/Miniconda3-py37_4.8.2-Linux-x86_64.sh\n",
        "! chmod +x Miniconda3-py37_4.8.2-Linux-x86_64.sh\n",
        "! bash ./Miniconda3-py37_4.8.2-Linux-x86_64.sh -b -f -p /usr/local\n",
        "import sys\n",
        "sys.path.append('/usr/local/lib/python3.7/site-packages/')\n",
        "\n",
        "!conda install --channel cantera cantera ipython matplotlib jupyter\n"
      ],
      "execution_count": 1,
      "outputs": [
        {
          "output_type": "stream",
          "text": [
            "--2021-07-09 05:49:47--  https://repo.anaconda.com/miniconda/Miniconda3-py37_4.8.2-Linux-x86_64.sh\n",
            "Resolving repo.anaconda.com (repo.anaconda.com)... 104.16.131.3, 104.16.130.3, 2606:4700::6810:8203, ...\n",
            "Connecting to repo.anaconda.com (repo.anaconda.com)|104.16.131.3|:443... connected.\n",
            "HTTP request sent, awaiting response... 200 OK\n",
            "Length: 85055499 (81M) [application/x-sh]\n",
            "Saving to: ‘Miniconda3-py37_4.8.2-Linux-x86_64.sh’\n",
            "\n",
            "Miniconda3-py37_4.8 100%[===================>]  81.12M   150MB/s    in 0.5s    \n",
            "\n",
            "2021-07-09 05:49:47 (150 MB/s) - ‘Miniconda3-py37_4.8.2-Linux-x86_64.sh’ saved [85055499/85055499]\n",
            "\n",
            "PREFIX=/usr/local\n",
            "Unpacking payload ...\n",
            "Collecting package metadata (current_repodata.json): - \b\b\\ \b\b| \b\bdone\n",
            "Solving environment: - \b\b\\ \b\bdone\n",
            "\n",
            "## Package Plan ##\n",
            "\n",
            "  environment location: /usr/local\n",
            "\n",
            "  added / updated specs:\n",
            "    - _libgcc_mutex==0.1=main\n",
            "    - asn1crypto==1.3.0=py37_0\n",
            "    - ca-certificates==2020.1.1=0\n",
            "    - certifi==2019.11.28=py37_0\n",
            "    - cffi==1.14.0=py37h2e261b9_0\n",
            "    - chardet==3.0.4=py37_1003\n",
            "    - conda-package-handling==1.6.0=py37h7b6447c_0\n",
            "    - conda==4.8.2=py37_0\n",
            "    - cryptography==2.8=py37h1ba5d50_0\n",
            "    - idna==2.8=py37_0\n",
            "    - ld_impl_linux-64==2.33.1=h53a641e_7\n",
            "    - libedit==3.1.20181209=hc058e9b_0\n",
            "    - libffi==3.2.1=hd88cf55_4\n",
            "    - libgcc-ng==9.1.0=hdf63c60_0\n",
            "    - libstdcxx-ng==9.1.0=hdf63c60_0\n",
            "    - ncurses==6.2=he6710b0_0\n",
            "    - openssl==1.1.1d=h7b6447c_4\n",
            "    - pip==20.0.2=py37_1\n",
            "    - pycosat==0.6.3=py37h7b6447c_0\n",
            "    - pycparser==2.19=py37_0\n",
            "    - pyopenssl==19.1.0=py37_0\n",
            "    - pysocks==1.7.1=py37_0\n",
            "    - python==3.7.6=h0371630_2\n",
            "    - readline==7.0=h7b6447c_5\n",
            "    - requests==2.22.0=py37_1\n",
            "    - ruamel_yaml==0.15.87=py37h7b6447c_0\n",
            "    - setuptools==45.2.0=py37_0\n",
            "    - six==1.14.0=py37_0\n",
            "    - sqlite==3.31.1=h7b6447c_0\n",
            "    - tk==8.6.8=hbc83047_0\n",
            "    - tqdm==4.42.1=py_0\n",
            "    - urllib3==1.25.8=py37_0\n",
            "    - wheel==0.34.2=py37_0\n",
            "    - xz==5.2.4=h14c3975_4\n",
            "    - yaml==0.1.7=had09818_2\n",
            "    - zlib==1.2.11=h7b6447c_3\n",
            "\n",
            "\n",
            "The following NEW packages will be INSTALLED:\n",
            "\n",
            "  _libgcc_mutex      pkgs/main/linux-64::_libgcc_mutex-0.1-main\n",
            "  asn1crypto         pkgs/main/linux-64::asn1crypto-1.3.0-py37_0\n",
            "  ca-certificates    pkgs/main/linux-64::ca-certificates-2020.1.1-0\n",
            "  certifi            pkgs/main/linux-64::certifi-2019.11.28-py37_0\n",
            "  cffi               pkgs/main/linux-64::cffi-1.14.0-py37h2e261b9_0\n",
            "  chardet            pkgs/main/linux-64::chardet-3.0.4-py37_1003\n",
            "  conda              pkgs/main/linux-64::conda-4.8.2-py37_0\n",
            "  conda-package-han~ pkgs/main/linux-64::conda-package-handling-1.6.0-py37h7b6447c_0\n",
            "  cryptography       pkgs/main/linux-64::cryptography-2.8-py37h1ba5d50_0\n",
            "  idna               pkgs/main/linux-64::idna-2.8-py37_0\n",
            "  ld_impl_linux-64   pkgs/main/linux-64::ld_impl_linux-64-2.33.1-h53a641e_7\n",
            "  libedit            pkgs/main/linux-64::libedit-3.1.20181209-hc058e9b_0\n",
            "  libffi             pkgs/main/linux-64::libffi-3.2.1-hd88cf55_4\n",
            "  libgcc-ng          pkgs/main/linux-64::libgcc-ng-9.1.0-hdf63c60_0\n",
            "  libstdcxx-ng       pkgs/main/linux-64::libstdcxx-ng-9.1.0-hdf63c60_0\n",
            "  ncurses            pkgs/main/linux-64::ncurses-6.2-he6710b0_0\n",
            "  openssl            pkgs/main/linux-64::openssl-1.1.1d-h7b6447c_4\n",
            "  pip                pkgs/main/linux-64::pip-20.0.2-py37_1\n",
            "  pycosat            pkgs/main/linux-64::pycosat-0.6.3-py37h7b6447c_0\n",
            "  pycparser          pkgs/main/linux-64::pycparser-2.19-py37_0\n",
            "  pyopenssl          pkgs/main/linux-64::pyopenssl-19.1.0-py37_0\n",
            "  pysocks            pkgs/main/linux-64::pysocks-1.7.1-py37_0\n",
            "  python             pkgs/main/linux-64::python-3.7.6-h0371630_2\n",
            "  readline           pkgs/main/linux-64::readline-7.0-h7b6447c_5\n",
            "  requests           pkgs/main/linux-64::requests-2.22.0-py37_1\n",
            "  ruamel_yaml        pkgs/main/linux-64::ruamel_yaml-0.15.87-py37h7b6447c_0\n",
            "  setuptools         pkgs/main/linux-64::setuptools-45.2.0-py37_0\n",
            "  six                pkgs/main/linux-64::six-1.14.0-py37_0\n",
            "  sqlite             pkgs/main/linux-64::sqlite-3.31.1-h7b6447c_0\n",
            "  tk                 pkgs/main/linux-64::tk-8.6.8-hbc83047_0\n",
            "  tqdm               pkgs/main/noarch::tqdm-4.42.1-py_0\n",
            "  urllib3            pkgs/main/linux-64::urllib3-1.25.8-py37_0\n",
            "  wheel              pkgs/main/linux-64::wheel-0.34.2-py37_0\n",
            "  xz                 pkgs/main/linux-64::xz-5.2.4-h14c3975_4\n",
            "  yaml               pkgs/main/linux-64::yaml-0.1.7-had09818_2\n",
            "  zlib               pkgs/main/linux-64::zlib-1.2.11-h7b6447c_3\n",
            "\n",
            "\n",
            "Preparing transaction: / \b\b- \b\b\\ \b\b| \b\bdone\n",
            "Executing transaction: - \b\b\\ \b\b| \b\b/ \b\b- \b\b\\ \b\b| \b\b/ \b\b- \b\b\\ \b\b| \b\b/ \b\b- \b\b\\ \b\b| \b\b/ \b\b- \b\b\\ \b\b| \b\b/ \b\b- \b\bdone\n",
            "installation finished.\n",
            "WARNING:\n",
            "    You currently have a PYTHONPATH environment variable set. This may cause\n",
            "    unexpected behavior when running the Python interpreter in Miniconda3.\n",
            "    For best results, please verify that your PYTHONPATH only points to\n",
            "    directories of packages that are compatible with the Python interpreter\n",
            "    in Miniconda3: /usr/local\n",
            "Collecting package metadata (current_repodata.json): - \b\b\\ \b\b| \b\b/ \b\b- \b\b\\ \b\b| \b\b/ \b\b- \b\b\\ \b\b| \b\b/ \b\b- \b\b\\ \b\b| \b\b/ \b\b- \b\b\\ \b\b| \b\b/ \b\b- \b\bdone\n",
            "Solving environment: | \b\b/ \b\b- \b\b\\ \b\b| \b\b/ \b\b- \b\b\\ \b\b| \b\b/ \b\b- \b\b\\ \b\b| \b\b/ \b\b- \b\b\\ \b\b| \b\b/ \b\b- \b\b\\ \b\b| \b\b/ \b\bfailed with initial frozen solve. Retrying with flexible solve.\n",
            "Solving environment: \\ \b\b| \b\b/ \b\b- \b\b\\ \b\b| \b\b/ \b\b- \b\b\\ \b\b| \b\b/ \b\b- \b\b\\ \b\b| \b\b/ \b\b- \b\b\\ \b\b| \b\b/ \b\b- \b\b\\ \b\b| \b\b/ \b\bfailed with repodata from current_repodata.json, will retry with next repodata source.\n",
            "Collecting package metadata (repodata.json): \\ \b\b| \b\b/ \b\b- \b\b\\ \b\b| \b\b/ \b\b- \b\b\\ \b\b| \b\b/ \b\b- \b\b\\ \b\b| \b\b/ \b\b- \b\b\\ \b\b| \b\b/ \b\b- \b\b\\ \b\b| \b\b/ \b\b- \b\b\\ \b\b| \b\b/ \b\b- \b\b\\ \b\b| \b\b/ \b\b- \b\b\\ \b\b| \b\b/ \b\b- \b\b\\ \b\b| \b\b/ \b\b- \b\b\\ \b\b| \b\b/ \b\b- \b\b\\ \b\b| \b\b/ \b\b- \b\b\\ \b\b| \b\b/ \b\b- \b\b\\ \b\b| \b\b/ \b\b- \b\b\\ \b\bdone\n",
            "Solving environment: / \b\b- \b\b\\ \b\b| \b\b/ \b\b- \b\b\\ \b\b| \b\b/ \b\b- \b\b\\ \b\b| \b\b/ \b\b- \b\b\\ \b\b| \b\b/ \b\b- \b\b\\ \b\b| \b\b/ \b\b- \b\b\\ \b\b| \b\b/ \b\b- \b\b\\ \b\b| \b\b/ \b\b- \b\b\\ \b\b| \b\b/ \b\b- \b\b\\ \b\b| \b\b/ \b\b- \b\b\\ \b\b| \b\b/ \b\b- \b\b\\ \b\b| \b\b/ \b\b- \b\b\\ \b\b| \b\b/ \b\b- \b\b\\ \b\b| \b\b/ \b\b- \b\b\\ \b\b| \b\b/ \b\b- \b\b\\ \b\b| \b\b/ \b\b- \b\b\\ \b\b| \b\b/ \b\b- \b\b\\ \b\b| \b\b/ \b\b- \b\b\\ \b\b| \b\b/ \b\b- \b\b\\ \b\b| \b\b/ \b\b- \b\b\\ \b\b| \b\b/ \b\b- \b\b\\ \b\b| \b\b/ \b\b- \b\b\\ \b\b| \b\b/ \b\b- \b\b\\ \b\b| \b\b/ \b\b- \b\b\\ \b\b| \b\b/ \b\b- \b\b\\ \b\b| \b\b/ \b\b- \b\b\\ \b\b| \b\b/ \b\b- \b\b\\ \b\b| \b\b/ \b\b- \b\b\\ \b\b| \b\b/ \b\b- \b\b\\ \b\b| \b\b/ \b\b- \b\b\\ \b\b| \b\b/ \b\b- \b\b\\ \b\b| \b\b/ \b\b- \b\b\\ \b\b| \b\b/ \b\b- \b\b\\ \b\b| \b\b/ \b\b- \b\b\\ \b\b| \b\b/ \b\b- \b\b\\ \b\b| \b\b/ \b\b- \b\b\\ \b\b| \b\b/ \b\b- \b\b\\ \b\bdone\n",
            "\n",
            "## Package Plan ##\n",
            "\n",
            "  environment location: /usr/local\n",
            "\n",
            "  added / updated specs:\n",
            "    - cantera\n",
            "    - ipython\n",
            "    - jupyter\n",
            "    - matplotlib\n",
            "\n",
            "\n",
            "The following packages will be downloaded:\n",
            "\n",
            "    package                    |            build\n",
            "    ---------------------------|-----------------\n",
            "    argon2-cffi-20.1.0         |   py37h27cfd23_1          46 KB\n",
            "    async_generator-1.10       |   py37h28b3542_0          39 KB\n",
            "    attrs-21.2.0               |     pyhd3eb1b0_0          46 KB\n",
            "    backcall-0.2.0             |     pyhd3eb1b0_0          13 KB\n",
            "    blas-1.0                   |              mkl           6 KB\n",
            "    bleach-3.3.0               |     pyhd3eb1b0_0         113 KB\n",
            "    ca-certificates-2021.7.5   |       h06a4308_1         113 KB\n",
            "    cached-property-1.5.2      |             py_0          11 KB\n",
            "    cantera-2.5.1              |   py37hb93dfd8_0         3.7 MB  cantera\n",
            "    certifi-2021.5.30          |   py37h06a4308_0         139 KB\n",
            "    conda-4.10.3               |   py37h06a4308_0         2.9 MB\n",
            "    cycler-0.10.0              |           py37_0          13 KB\n",
            "    dbus-1.13.18               |       hb2f20db_0         504 KB\n",
            "    decorator-5.0.9            |     pyhd3eb1b0_0          12 KB\n",
            "    defusedxml-0.7.1           |     pyhd3eb1b0_0          23 KB\n",
            "    entrypoints-0.3            |           py37_0          12 KB\n",
            "    expat-2.4.1                |       h2531618_2         168 KB\n",
            "    fontconfig-2.13.0          |       h9420a91_0         227 KB\n",
            "    freetype-2.10.4            |       h5ab3b9f_0         596 KB\n",
            "    glib-2.63.1                |       h5a9c865_0         2.9 MB\n",
            "    gst-plugins-base-1.14.0    |       hbbd80ab_1         4.8 MB\n",
            "    gstreamer-1.14.0           |       hb453b48_1         3.1 MB\n",
            "    h5py-3.2.1                 |   py37h6c542dc_0         1.0 MB\n",
            "    hdf5-1.10.6                |       hb1b8bf9_0         3.7 MB\n",
            "    icu-58.2                   |       he6710b0_3        10.5 MB\n",
            "    importlib-metadata-3.10.0  |   py37h06a4308_0          33 KB\n",
            "    importlib_metadata-3.10.0  |       hd3eb1b0_0          11 KB\n",
            "    intel-openmp-2021.2.0      |     h06a4308_610         1.3 MB\n",
            "    ipykernel-5.3.4            |   py37h5ca1d4c_0         179 KB\n",
            "    ipython-7.22.0             |   py37hb070fc8_0         992 KB\n",
            "    ipython_genutils-0.2.0     |     pyhd3eb1b0_1          27 KB\n",
            "    ipywidgets-7.6.3           |     pyhd3eb1b0_1         105 KB\n",
            "    jedi-0.17.0                |           py37_0         775 KB\n",
            "    jinja2-3.0.1               |     pyhd3eb1b0_0         110 KB\n",
            "    jpeg-9b                    |       h024ee3a_2         214 KB\n",
            "    jsonschema-3.2.0           |             py_2          47 KB\n",
            "    jupyter-1.0.0              |           py37_7           6 KB\n",
            "    jupyter_client-6.1.12      |     pyhd3eb1b0_0          88 KB\n",
            "    jupyter_console-6.4.0      |     pyhd3eb1b0_0          23 KB\n",
            "    jupyter_core-4.7.1         |   py37h06a4308_0          68 KB\n",
            "    jupyterlab_pygments-0.1.2  |             py_0           8 KB\n",
            "    jupyterlab_widgets-1.0.0   |     pyhd3eb1b0_1         109 KB\n",
            "    kiwisolver-1.3.1           |   py37h2531618_0          80 KB\n",
            "    lcms2-2.12                 |       h3be6417_0         312 KB\n",
            "    libgfortran-ng-7.5.0       |      ha8ba4b0_17          22 KB\n",
            "    libgfortran4-7.5.0         |      ha8ba4b0_17         995 KB\n",
            "    libpng-1.6.37              |       hbc83047_0         278 KB\n",
            "    libsodium-1.0.18           |       h7b6447c_0         244 KB\n",
            "    libtiff-4.1.0              |       h2733197_0         447 KB\n",
            "    libuuid-1.0.3              |       h1bed415_2          15 KB\n",
            "    libxcb-1.14                |       h7b6447c_0         505 KB\n",
            "    libxml2-2.9.9              |       hea5a465_1         1.6 MB\n",
            "    markupsafe-2.0.1           |   py37h27cfd23_0          21 KB\n",
            "    matplotlib-3.3.4           |   py37h06a4308_0          26 KB\n",
            "    matplotlib-base-3.3.4      |   py37h62a2d02_0         5.1 MB\n",
            "    mistune-0.8.4              |py37h14c3975_1001          54 KB\n",
            "    mkl-2021.2.0               |     h06a4308_296       144.3 MB\n",
            "    mkl-service-2.3.0          |   py37h27cfd23_1          55 KB\n",
            "    mkl_fft-1.3.0              |   py37h42c9631_2         170 KB\n",
            "    mkl_random-1.2.1           |   py37ha9443f7_2         287 KB\n",
            "    nbclient-0.5.3             |     pyhd3eb1b0_0          62 KB\n",
            "    nbconvert-6.1.0            |   py37h06a4308_0         483 KB\n",
            "    nbformat-5.1.3             |     pyhd3eb1b0_0          44 KB\n",
            "    nest-asyncio-1.5.1         |     pyhd3eb1b0_0          10 KB\n",
            "    notebook-6.4.0             |   py37h06a4308_0         4.1 MB\n",
            "    numpy-1.20.2               |   py37h2d18471_0          23 KB\n",
            "    numpy-base-1.20.2          |   py37hfae3a4d_0         4.5 MB\n",
            "    olefile-0.46               |           py37_0          50 KB\n",
            "    openjpeg-2.3.0             |       h05c96fa_1         301 KB\n",
            "    openssl-1.1.1k             |       h27cfd23_0         2.5 MB\n",
            "    packaging-21.0             |     pyhd3eb1b0_0          36 KB\n",
            "    pandocfilters-1.4.3        |   py37h06a4308_1          14 KB\n",
            "    parso-0.8.2                |     pyhd3eb1b0_0          69 KB\n",
            "    pcre-8.45                  |       h295c915_0         207 KB\n",
            "    pexpect-4.8.0              |     pyhd3eb1b0_3          53 KB\n",
            "    pickleshare-0.7.5          |  pyhd3eb1b0_1003          13 KB\n",
            "    pillow-8.3.1               |   py37h2c7a002_0         635 KB\n",
            "    prometheus_client-0.11.0   |     pyhd3eb1b0_0          47 KB\n",
            "    prompt-toolkit-3.0.17      |     pyh06a4308_0         256 KB\n",
            "    prompt_toolkit-3.0.17      |       hd3eb1b0_0          12 KB\n",
            "    ptyprocess-0.7.0           |     pyhd3eb1b0_2          17 KB\n",
            "    pygments-2.9.0             |     pyhd3eb1b0_0         721 KB\n",
            "    pyparsing-2.4.7            |     pyhd3eb1b0_0          59 KB\n",
            "    pyqt-5.9.2                 |   py37h05f1152_2         4.5 MB\n",
            "    pyrsistent-0.17.3          |   py37h7b6447c_0          89 KB\n",
            "    python-dateutil-2.8.1      |     pyhd3eb1b0_0         221 KB\n",
            "    pyzmq-20.0.0               |   py37h2531618_1         439 KB\n",
            "    qt-5.9.7                   |       h5867ecd_1        68.5 MB\n",
            "    qtconsole-5.1.0            |     pyhd3eb1b0_0          98 KB\n",
            "    qtpy-1.9.0                 |             py_0          38 KB\n",
            "    send2trash-1.5.0           |     pyhd3eb1b0_1          14 KB\n",
            "    sip-4.19.8                 |   py37hf484d3e_0         274 KB\n",
            "    terminado-0.9.4            |   py37h06a4308_0          25 KB\n",
            "    testpath-0.5.0             |     pyhd3eb1b0_0          81 KB\n",
            "    tornado-6.1                |   py37h27cfd23_0         589 KB\n",
            "    traitlets-5.0.5            |     pyhd3eb1b0_0          81 KB\n",
            "    typing_extensions-3.10.0.0 |     pyh06a4308_0          27 KB\n",
            "    wcwidth-0.2.5              |             py_0          29 KB\n",
            "    webencodings-0.5.1         |           py37_1          19 KB\n",
            "    widgetsnbextension-3.5.1   |           py37_0         862 KB\n",
            "    zeromq-4.3.4               |       h2531618_0         331 KB\n",
            "    zipp-3.5.0                 |     pyhd3eb1b0_0          13 KB\n",
            "    zstd-1.3.7                 |       h0b5b093_0         401 KB\n",
            "    ------------------------------------------------------------\n",
            "                                           Total:       283.6 MB\n",
            "\n",
            "The following NEW packages will be INSTALLED:\n",
            "\n",
            "  argon2-cffi        pkgs/main/linux-64::argon2-cffi-20.1.0-py37h27cfd23_1\n",
            "  async_generator    pkgs/main/linux-64::async_generator-1.10-py37h28b3542_0\n",
            "  attrs              pkgs/main/noarch::attrs-21.2.0-pyhd3eb1b0_0\n",
            "  backcall           pkgs/main/noarch::backcall-0.2.0-pyhd3eb1b0_0\n",
            "  blas               pkgs/main/linux-64::blas-1.0-mkl\n",
            "  bleach             pkgs/main/noarch::bleach-3.3.0-pyhd3eb1b0_0\n",
            "  cached-property    pkgs/main/noarch::cached-property-1.5.2-py_0\n",
            "  cantera            cantera/linux-64::cantera-2.5.1-py37hb93dfd8_0\n",
            "  cycler             pkgs/main/linux-64::cycler-0.10.0-py37_0\n",
            "  dbus               pkgs/main/linux-64::dbus-1.13.18-hb2f20db_0\n",
            "  decorator          pkgs/main/noarch::decorator-5.0.9-pyhd3eb1b0_0\n",
            "  defusedxml         pkgs/main/noarch::defusedxml-0.7.1-pyhd3eb1b0_0\n",
            "  entrypoints        pkgs/main/linux-64::entrypoints-0.3-py37_0\n",
            "  expat              pkgs/main/linux-64::expat-2.4.1-h2531618_2\n",
            "  fontconfig         pkgs/main/linux-64::fontconfig-2.13.0-h9420a91_0\n",
            "  freetype           pkgs/main/linux-64::freetype-2.10.4-h5ab3b9f_0\n",
            "  glib               pkgs/main/linux-64::glib-2.63.1-h5a9c865_0\n",
            "  gst-plugins-base   pkgs/main/linux-64::gst-plugins-base-1.14.0-hbbd80ab_1\n",
            "  gstreamer          pkgs/main/linux-64::gstreamer-1.14.0-hb453b48_1\n",
            "  h5py               pkgs/main/linux-64::h5py-3.2.1-py37h6c542dc_0\n",
            "  hdf5               pkgs/main/linux-64::hdf5-1.10.6-hb1b8bf9_0\n",
            "  icu                pkgs/main/linux-64::icu-58.2-he6710b0_3\n",
            "  importlib-metadata pkgs/main/linux-64::importlib-metadata-3.10.0-py37h06a4308_0\n",
            "  importlib_metadata pkgs/main/noarch::importlib_metadata-3.10.0-hd3eb1b0_0\n",
            "  intel-openmp       pkgs/main/linux-64::intel-openmp-2021.2.0-h06a4308_610\n",
            "  ipykernel          pkgs/main/linux-64::ipykernel-5.3.4-py37h5ca1d4c_0\n",
            "  ipython            pkgs/main/linux-64::ipython-7.22.0-py37hb070fc8_0\n",
            "  ipython_genutils   pkgs/main/noarch::ipython_genutils-0.2.0-pyhd3eb1b0_1\n",
            "  ipywidgets         pkgs/main/noarch::ipywidgets-7.6.3-pyhd3eb1b0_1\n",
            "  jedi               pkgs/main/linux-64::jedi-0.17.0-py37_0\n",
            "  jinja2             pkgs/main/noarch::jinja2-3.0.1-pyhd3eb1b0_0\n",
            "  jpeg               pkgs/main/linux-64::jpeg-9b-h024ee3a_2\n",
            "  jsonschema         pkgs/main/noarch::jsonschema-3.2.0-py_2\n",
            "  jupyter            pkgs/main/linux-64::jupyter-1.0.0-py37_7\n",
            "  jupyter_client     pkgs/main/noarch::jupyter_client-6.1.12-pyhd3eb1b0_0\n",
            "  jupyter_console    pkgs/main/noarch::jupyter_console-6.4.0-pyhd3eb1b0_0\n",
            "  jupyter_core       pkgs/main/linux-64::jupyter_core-4.7.1-py37h06a4308_0\n",
            "  jupyterlab_pygmen~ pkgs/main/noarch::jupyterlab_pygments-0.1.2-py_0\n",
            "  jupyterlab_widgets pkgs/main/noarch::jupyterlab_widgets-1.0.0-pyhd3eb1b0_1\n",
            "  kiwisolver         pkgs/main/linux-64::kiwisolver-1.3.1-py37h2531618_0\n",
            "  lcms2              pkgs/main/linux-64::lcms2-2.12-h3be6417_0\n",
            "  libgfortran-ng     pkgs/main/linux-64::libgfortran-ng-7.5.0-ha8ba4b0_17\n",
            "  libgfortran4       pkgs/main/linux-64::libgfortran4-7.5.0-ha8ba4b0_17\n",
            "  libpng             pkgs/main/linux-64::libpng-1.6.37-hbc83047_0\n",
            "  libsodium          pkgs/main/linux-64::libsodium-1.0.18-h7b6447c_0\n",
            "  libtiff            pkgs/main/linux-64::libtiff-4.1.0-h2733197_0\n",
            "  libuuid            pkgs/main/linux-64::libuuid-1.0.3-h1bed415_2\n",
            "  libxcb             pkgs/main/linux-64::libxcb-1.14-h7b6447c_0\n",
            "  libxml2            pkgs/main/linux-64::libxml2-2.9.9-hea5a465_1\n",
            "  markupsafe         pkgs/main/linux-64::markupsafe-2.0.1-py37h27cfd23_0\n",
            "  matplotlib         pkgs/main/linux-64::matplotlib-3.3.4-py37h06a4308_0\n",
            "  matplotlib-base    pkgs/main/linux-64::matplotlib-base-3.3.4-py37h62a2d02_0\n",
            "  mistune            pkgs/main/linux-64::mistune-0.8.4-py37h14c3975_1001\n",
            "  mkl                pkgs/main/linux-64::mkl-2021.2.0-h06a4308_296\n",
            "  mkl-service        pkgs/main/linux-64::mkl-service-2.3.0-py37h27cfd23_1\n",
            "  mkl_fft            pkgs/main/linux-64::mkl_fft-1.3.0-py37h42c9631_2\n",
            "  mkl_random         pkgs/main/linux-64::mkl_random-1.2.1-py37ha9443f7_2\n",
            "  nbclient           pkgs/main/noarch::nbclient-0.5.3-pyhd3eb1b0_0\n",
            "  nbconvert          pkgs/main/linux-64::nbconvert-6.1.0-py37h06a4308_0\n",
            "  nbformat           pkgs/main/noarch::nbformat-5.1.3-pyhd3eb1b0_0\n",
            "  nest-asyncio       pkgs/main/noarch::nest-asyncio-1.5.1-pyhd3eb1b0_0\n",
            "  notebook           pkgs/main/linux-64::notebook-6.4.0-py37h06a4308_0\n",
            "  numpy              pkgs/main/linux-64::numpy-1.20.2-py37h2d18471_0\n",
            "  numpy-base         pkgs/main/linux-64::numpy-base-1.20.2-py37hfae3a4d_0\n",
            "  olefile            pkgs/main/linux-64::olefile-0.46-py37_0\n",
            "  openjpeg           pkgs/main/linux-64::openjpeg-2.3.0-h05c96fa_1\n",
            "  packaging          pkgs/main/noarch::packaging-21.0-pyhd3eb1b0_0\n",
            "  pandocfilters      pkgs/main/linux-64::pandocfilters-1.4.3-py37h06a4308_1\n",
            "  parso              pkgs/main/noarch::parso-0.8.2-pyhd3eb1b0_0\n",
            "  pcre               pkgs/main/linux-64::pcre-8.45-h295c915_0\n",
            "  pexpect            pkgs/main/noarch::pexpect-4.8.0-pyhd3eb1b0_3\n",
            "  pickleshare        pkgs/main/noarch::pickleshare-0.7.5-pyhd3eb1b0_1003\n",
            "  pillow             pkgs/main/linux-64::pillow-8.3.1-py37h2c7a002_0\n",
            "  prometheus_client  pkgs/main/noarch::prometheus_client-0.11.0-pyhd3eb1b0_0\n",
            "  prompt-toolkit     pkgs/main/noarch::prompt-toolkit-3.0.17-pyh06a4308_0\n",
            "  prompt_toolkit     pkgs/main/noarch::prompt_toolkit-3.0.17-hd3eb1b0_0\n",
            "  ptyprocess         pkgs/main/noarch::ptyprocess-0.7.0-pyhd3eb1b0_2\n",
            "  pygments           pkgs/main/noarch::pygments-2.9.0-pyhd3eb1b0_0\n",
            "  pyparsing          pkgs/main/noarch::pyparsing-2.4.7-pyhd3eb1b0_0\n",
            "  pyqt               pkgs/main/linux-64::pyqt-5.9.2-py37h05f1152_2\n",
            "  pyrsistent         pkgs/main/linux-64::pyrsistent-0.17.3-py37h7b6447c_0\n",
            "  python-dateutil    pkgs/main/noarch::python-dateutil-2.8.1-pyhd3eb1b0_0\n",
            "  pyzmq              pkgs/main/linux-64::pyzmq-20.0.0-py37h2531618_1\n",
            "  qt                 pkgs/main/linux-64::qt-5.9.7-h5867ecd_1\n",
            "  qtconsole          pkgs/main/noarch::qtconsole-5.1.0-pyhd3eb1b0_0\n",
            "  qtpy               pkgs/main/noarch::qtpy-1.9.0-py_0\n",
            "  send2trash         pkgs/main/noarch::send2trash-1.5.0-pyhd3eb1b0_1\n",
            "  sip                pkgs/main/linux-64::sip-4.19.8-py37hf484d3e_0\n",
            "  terminado          pkgs/main/linux-64::terminado-0.9.4-py37h06a4308_0\n",
            "  testpath           pkgs/main/noarch::testpath-0.5.0-pyhd3eb1b0_0\n",
            "  tornado            pkgs/main/linux-64::tornado-6.1-py37h27cfd23_0\n",
            "  traitlets          pkgs/main/noarch::traitlets-5.0.5-pyhd3eb1b0_0\n",
            "  typing_extensions  pkgs/main/noarch::typing_extensions-3.10.0.0-pyh06a4308_0\n",
            "  wcwidth            pkgs/main/noarch::wcwidth-0.2.5-py_0\n",
            "  webencodings       pkgs/main/linux-64::webencodings-0.5.1-py37_1\n",
            "  widgetsnbextension pkgs/main/linux-64::widgetsnbextension-3.5.1-py37_0\n",
            "  zeromq             pkgs/main/linux-64::zeromq-4.3.4-h2531618_0\n",
            "  zipp               pkgs/main/noarch::zipp-3.5.0-pyhd3eb1b0_0\n",
            "  zstd               pkgs/main/linux-64::zstd-1.3.7-h0b5b093_0\n",
            "\n",
            "The following packages will be UPDATED:\n",
            "\n",
            "  ca-certificates                                2020.1.1-0 --> 2021.7.5-h06a4308_1\n",
            "  certifi                                 2019.11.28-py37_0 --> 2021.5.30-py37h06a4308_0\n",
            "  conda                                        4.8.2-py37_0 --> 4.10.3-py37h06a4308_0\n",
            "  openssl                                 1.1.1d-h7b6447c_4 --> 1.1.1k-h27cfd23_0\n",
            "\n",
            "\n",
            "Proceed ([y]/n)? y\n",
            "\n",
            "\n",
            "Downloading and Extracting Packages\n",
            "glib-2.63.1          | 2.9 MB    | : 100% 1.0/1 [00:00<00:00,  4.92it/s]\n",
            "jupyterlab_widgets-1 | 109 KB    | : 100% 1.0/1 [00:00<00:00, 16.49it/s]\n",
            "freetype-2.10.4      | 596 KB    | : 100% 1.0/1 [00:00<00:00, 12.72it/s]\n",
            "libxcb-1.14          | 505 KB    | : 100% 1.0/1 [00:00<00:00, 11.85it/s]\n",
            "wcwidth-0.2.5        | 29 KB     | : 100% 1.0/1 [00:00<00:00, 17.82it/s]\n",
            "nbformat-5.1.3       | 44 KB     | : 100% 1.0/1 [00:00<00:00, 16.02it/s]\n",
            "markupsafe-2.0.1     | 21 KB     | : 100% 1.0/1 [00:00<00:00, 19.01it/s]\n",
            "nbconvert-6.1.0      | 483 KB    | : 100% 1.0/1 [00:00<00:00,  9.95it/s]\n",
            "nest-asyncio-1.5.1   | 10 KB     | : 100% 1.0/1 [00:00<00:00, 19.63it/s]\n",
            "dbus-1.13.18         | 504 KB    | : 100% 1.0/1 [00:00<00:00, 14.40it/s]\n",
            "prompt-toolkit-3.0.1 | 256 KB    | : 100% 1.0/1 [00:00<00:00, 13.96it/s]\n",
            "openssl-1.1.1k       | 2.5 MB    | : 100% 1.0/1 [00:00<00:00,  7.02it/s]\n",
            "cantera-2.5.1        | 3.7 MB    | : 100% 1.0/1 [00:01<00:00,  1.44s/it]\n",
            "webencodings-0.5.1   | 19 KB     | : 100% 1.0/1 [00:00<00:00, 17.47it/s]\n",
            "prompt_toolkit-3.0.1 | 12 KB     | : 100% 1.0/1 [00:00<00:00, 15.88it/s]\n",
            "pickleshare-0.7.5    | 13 KB     | : 100% 1.0/1 [00:00<00:00, 16.00it/s]\n",
            "decorator-5.0.9      | 12 KB     | : 100% 1.0/1 [00:00<00:00, 16.63it/s]\n",
            "ipykernel-5.3.4      | 179 KB    | : 100% 1.0/1 [00:00<00:00, 14.24it/s]\n",
            "qtconsole-5.1.0      | 98 KB     | : 100% 1.0/1 [00:00<00:00, 15.89it/s]\n",
            "ca-certificates-2021 | 113 KB    | : 100% 1.0/1 [00:00<00:00, 15.88it/s]\n",
            "zipp-3.5.0           | 13 KB     | : 100% 1.0/1 [00:00<00:00, 17.09it/s]\n",
            "jedi-0.17.0          | 775 KB    | : 100% 1.0/1 [00:00<00:00,  3.89it/s]\n",
            "blas-1.0             | 6 KB      | : 100% 1.0/1 [00:00<00:00, 18.82it/s]\n",
            "ptyprocess-0.7.0     | 17 KB     | : 100% 1.0/1 [00:00<00:00, 17.81it/s]\n",
            "mkl-service-2.3.0    | 55 KB     | : 100% 1.0/1 [00:00<00:00, 16.95it/s]\n",
            "gst-plugins-base-1.1 | 4.8 MB    | : 100% 1.0/1 [00:00<00:00,  3.97it/s]\n",
            "terminado-0.9.4      | 25 KB     | : 100% 1.0/1 [00:00<00:00, 16.23it/s]\n",
            "prometheus_client-0. | 47 KB     | : 100% 1.0/1 [00:00<00:00, 18.60it/s]\n",
            "ipywidgets-7.6.3     | 105 KB    | : 100% 1.0/1 [00:00<00:00, 15.74it/s]\n",
            "expat-2.4.1          | 168 KB    | : 100% 1.0/1 [00:00<00:00, 16.08it/s]\n",
            "certifi-2021.5.30    | 139 KB    | : 100% 1.0/1 [00:00<00:00, 15.87it/s]\n",
            "nbclient-0.5.3       | 62 KB     | : 100% 1.0/1 [00:00<00:00, 16.13it/s]\n",
            "gstreamer-1.14.0     | 3.1 MB    | : 100% 1.0/1 [00:00<00:00,  5.89it/s]\n",
            "argon2-cffi-20.1.0   | 46 KB     | : 100% 1.0/1 [00:00<00:00, 14.48it/s]\n",
            "ipython_genutils-0.2 | 27 KB     | : 100% 1.0/1 [00:00<00:00, 17.52it/s]\n",
            "jupyter-1.0.0        | 6 KB      | : 100% 1.0/1 [00:00<00:00, 20.60it/s]\n",
            "zeromq-4.3.4         | 331 KB    | : 100% 1.0/1 [00:00<00:00, 13.64it/s]\n",
            "jinja2-3.0.1         | 110 KB    | : 100% 1.0/1 [00:00<00:00, 16.96it/s]\n",
            "cycler-0.10.0        | 13 KB     | : 100% 1.0/1 [00:00<00:00, 16.29it/s]\n",
            "pyqt-5.9.2           | 4.5 MB    | : 100% 1.0/1 [00:00<00:00,  3.02it/s]\n",
            "mkl_fft-1.3.0        | 170 KB    | : 100% 1.0/1 [00:00<00:00, 15.83it/s]\n",
            "libsodium-1.0.18     | 244 KB    | : 100% 1.0/1 [00:00<00:00, 11.05it/s]\n",
            "importlib_metadata-3 | 11 KB     | : 100% 1.0/1 [00:00<00:00, 17.92it/s]\n",
            "notebook-6.4.0       | 4.1 MB    | : 100% 1.0/1 [00:00<00:00,  2.11it/s]\n",
            "testpath-0.5.0       | 81 KB     | : 100% 1.0/1 [00:00<00:00, 17.45it/s]\n",
            "sip-4.19.8           | 274 KB    | : 100% 1.0/1 [00:00<00:00, 17.79it/s]\n",
            "mistune-0.8.4        | 54 KB     | : 100% 1.0/1 [00:00<00:00, 16.07it/s]\n",
            "numpy-1.20.2         | 23 KB     | : 100% 1.0/1 [00:00<00:00, 20.25it/s]\n",
            "libpng-1.6.37        | 278 KB    | : 100% 1.0/1 [00:00<00:00, 14.38it/s]\n",
            "bleach-3.3.0         | 113 KB    | : 100% 1.0/1 [00:00<00:00, 17.64it/s]\n",
            "pygments-2.9.0       | 721 KB    | : 100% 1.0/1 [00:00<00:00, 10.38it/s]\n",
            "h5py-3.2.1           | 1.0 MB    | : 100% 1.0/1 [00:00<00:00, 10.91it/s]\n",
            "openjpeg-2.3.0       | 301 KB    | : 100% 1.0/1 [00:00<00:00, 14.07it/s]\n",
            "jupyter_client-6.1.1 | 88 KB     | : 100% 1.0/1 [00:00<00:00, 18.23it/s]\n",
            "matplotlib-3.3.4     | 26 KB     | : 100% 1.0/1 [00:00<00:00, 18.98it/s]\n",
            "hdf5-1.10.6          | 3.7 MB    | : 100% 1.0/1 [00:00<00:00,  5.53it/s]\n",
            "packaging-21.0       | 36 KB     | : 100% 1.0/1 [00:00<00:00, 19.57it/s]\n",
            "kiwisolver-1.3.1     | 80 KB     | : 100% 1.0/1 [00:00<00:00, 18.80it/s]\n",
            "icu-58.2             | 10.5 MB   | : 100% 1.0/1 [00:00<00:00,  2.03it/s]               \n",
            "cached-property-1.5. | 11 KB     | : 100% 1.0/1 [00:00<00:00, 16.38it/s]\n",
            "qt-5.9.7             | 68.5 MB   | : 100% 1.0/1 [00:03<00:00,  3.13s/it]              \n",
            "attrs-21.2.0         | 46 KB     | : 100% 1.0/1 [00:00<00:00, 18.28it/s]\n",
            "entrypoints-0.3      | 12 KB     | : 100% 1.0/1 [00:00<00:00, 20.26it/s]\n",
            "jupyterlab_pygments- | 8 KB      | : 100% 1.0/1 [00:00<00:00, 18.72it/s]\n",
            "olefile-0.46         | 50 KB     | : 100% 1.0/1 [00:00<00:00, 19.51it/s]\n",
            "tornado-6.1          | 589 KB    | : 100% 1.0/1 [00:00<00:00, 11.06it/s]\n",
            "pandocfilters-1.4.3  | 14 KB     | : 100% 1.0/1 [00:00<00:00, 17.56it/s]\n",
            "parso-0.8.2          | 69 KB     | : 100% 1.0/1 [00:00<00:00, 18.08it/s]\n",
            "intel-openmp-2021.2. | 1.3 MB    | : 100% 1.0/1 [00:00<00:00,  9.01it/s]\n",
            "qtpy-1.9.0           | 38 KB     | : 100% 1.0/1 [00:00<00:00, 16.07it/s]\n",
            "libuuid-1.0.3        | 15 KB     | : 100% 1.0/1 [00:00<00:00, 19.07it/s]\n",
            "jupyter_console-6.4. | 23 KB     | : 100% 1.0/1 [00:00<00:00, 18.77it/s]\n",
            "libtiff-4.1.0        | 447 KB    | : 100% 1.0/1 [00:00<00:00, 12.76it/s]\n",
            "widgetsnbextension-3 | 862 KB    | : 100% 1.0/1 [00:00<00:00,  8.65it/s]\n",
            "defusedxml-0.7.1     | 23 KB     | : 100% 1.0/1 [00:00<00:00, 19.32it/s]\n",
            "fontconfig-2.13.0    | 227 KB    | : 100% 1.0/1 [00:00<00:00, 13.24it/s]\n",
            "matplotlib-base-3.3. | 5.1 MB    | : 100% 1.0/1 [00:00<00:00,  3.22it/s]\n",
            "zstd-1.3.7           | 401 KB    | : 100% 1.0/1 [00:00<00:00, 13.39it/s]\n",
            "pyrsistent-0.17.3    | 89 KB     | : 100% 1.0/1 [00:00<00:00, 14.54it/s]\n",
            "conda-4.10.3         | 2.9 MB    | : 100% 1.0/1 [00:00<00:00,  5.13it/s]\n",
            "pillow-8.3.1         | 635 KB    | : 100% 1.0/1 [00:00<00:00, 11.78it/s]\n",
            "libgfortran-ng-7.5.0 | 22 KB     | : 100% 1.0/1 [00:00<00:00, 18.06it/s]\n",
            "backcall-0.2.0       | 13 KB     | : 100% 1.0/1 [00:00<00:00, 55.93it/s]\n",
            "pexpect-4.8.0        | 53 KB     | : 100% 1.0/1 [00:00<00:00, 16.91it/s]\n",
            "send2trash-1.5.0     | 14 KB     | : 100% 1.0/1 [00:00<00:00, 18.57it/s]\n",
            "mkl-2021.2.0         | 144.3 MB  | : 100% 1.0/1 [00:15<00:00, 15.16s/it]               \n",
            "libxml2-2.9.9        | 1.6 MB    | : 100% 1.0/1 [00:00<00:00,  1.40it/s]\n",
            "pyzmq-20.0.0         | 439 KB    | : 100% 1.0/1 [00:03<00:00,  3.07s/it]\n",
            "numpy-base-1.20.2    | 4.5 MB    | : 100% 1.0/1 [00:00<00:00,  2.85it/s]               \n",
            "libgfortran4-7.5.0   | 995 KB    | : 100% 1.0/1 [00:00<00:00, 11.50it/s]\n",
            "jpeg-9b              | 214 KB    | : 100% 1.0/1 [00:00<00:00, 15.54it/s]\n",
            "ipython-7.22.0       | 992 KB    | : 100% 1.0/1 [00:00<00:00,  7.45it/s]\n",
            "pyparsing-2.4.7      | 59 KB     | : 100% 1.0/1 [00:00<00:00, 24.92it/s]\n",
            "traitlets-5.0.5      | 81 KB     | : 100% 1.0/1 [00:00<00:00, 23.40it/s]\n",
            "lcms2-2.12           | 312 KB    | : 100% 1.0/1 [00:00<00:00, 15.57it/s]\n",
            "jupyter_core-4.7.1   | 68 KB     | : 100% 1.0/1 [00:00<00:00, 14.25it/s]\n",
            "async_generator-1.10 | 39 KB     | : 100% 1.0/1 [00:00<00:00, 15.48it/s]\n",
            "jsonschema-3.2.0     | 47 KB     | : 100% 1.0/1 [00:00<00:00, 15.50it/s]\n",
            "importlib-metadata-3 | 33 KB     | : 100% 1.0/1 [00:00<00:00, 16.97it/s]\n",
            "mkl_random-1.2.1     | 287 KB    | : 100% 1.0/1 [00:00<00:00, 14.82it/s]\n",
            "python-dateutil-2.8. | 221 KB    | : 100% 1.0/1 [00:00<00:00, 18.54it/s]\n",
            "pcre-8.45            | 207 KB    | : 100% 1.0/1 [00:00<00:00, 14.19it/s]\n",
            "typing_extensions-3. | 27 KB     | : 100% 1.0/1 [00:00<00:00, 16.14it/s]\n",
            "Preparing transaction: / \b\b- \b\b\\ \b\b| \b\b/ \b\b- \b\b\\ \b\b| \b\b/ \b\b- \b\bdone\n",
            "Verifying transaction: | \b\b/ \b\b- \b\b\\ \b\b| \b\b/ \b\b- \b\b\\ \b\b| \b\b/ \b\b- \b\b\\ \b\b| \b\b/ \b\b- \b\b\\ \b\b| \b\b/ \b\b- \b\b\\ \b\b| \b\b/ \b\b- \b\b\\ \b\b| \b\b/ \b\b- \b\b\\ \b\b| \b\b/ \b\b- \b\b\\ \b\bdone\n",
            "Executing transaction: / \b\b- \b\b\\ \b\b| \b\b/ \b\b- \b\b\\ \b\b| \b\b/ \b\b- \b\b\\ \b\b| \b\b/ \b\b- \b\b\\ \b\b| \b\b/ \b\b- \b\b\\ \b\b| \b\b/ \b\b- \b\b\\ \b\b| \b\b/ \b\b- \b\b\\ \b\b| \b\b/ \b\b- \b\b\\ \b\b| \b\b/ \b\b- \b\b\\ \b\b| \b\b/ \b\b- \b\b\\ \b\b| \b\b/ \b\b- \b\b\\ \b\b| \b\b/ \b\b- \b\b\\ \b\b| \b\b/ \b\b- \b\b\\ \b\b| \b\b/ \b\b- \b\b\\ \b\b| \b\b/ \b\b- \b\b\\ \b\b| \b\b/ \b\b- \b\b\\ \b\b| \b\b/ \b\b- \b\b\\ \b\b| \b\b/ \b\b- \b\b\\ \b\b| \b\b/ \b\b- \b\b\\ \b\b| \b\b/ \b\b- \b\b\\ \b\b| \b\b/ \b\b- \b\b\\ \b\b| \b\b/ \b\b- \b\b\\ \b\b| \b\b/ \b\b- \b\b\\ \b\b| \b\b/ \b\b- \b\b\\ \b\b| \b\b/ \b\b- \b\b\\ \b\b| \b\b/ \b\b- \b\b\\ \b\b| \b\b/ \b\b- \b\b\\ \b\b| \b\b/ \b\b- \b\b\\ \b\b| \b\b/ \b\b- \b\b\\ \b\b| \b\b/ \b\b- \b\b\\ \b\b| \b\b/ \b\b- \b\b\\ \b\b| \b\b/ \b\b- \b\b\\ \b\b| \b\b/ \b\b- \b\b\\ \b\b| \b\b/ \b\b- \b\b\\ \b\b| \b\b/ \b\b- \b\b\\ \b\b| \b\b/ \b\b- \b\b\\ \b\b| \b\b/ \b\b- \b\b\\ \b\b| \b\b/ \b\b- \b\b\\ \b\b| \b\b/ \b\b- \b\b\\ \b\b| \b\b/ \b\b- \b\b\\ \b\b| \b\b/ \b\b- \b\b\\ \b\b| \b\b/ \b\b- \b\b\\ \b\b| \b\b/ \b\b- \b\b\\ \b\b| \b\b/ \b\b- \b\b\\ \b\b| \b\b/ \b\b- \b\b\\ \b\b| \b\b/ \b\b- \b\b\\ \b\b| \b\b/ \b\b- \b\b\\ \b\b| \b\b/ \b\b- \b\b\\ \b\b| \b\b/ \b\b- \b\b\\ \b\b| \b\b/ \b\b- \b\b\\ \b\b| \b\b/ \b\b- \b\b\\ \b\b| \b\b/ \b\b- \b\b\\ \b\b| \b\b/ \b\bdone\n"
          ],
          "name": "stdout"
        }
      ]
    },
    {
      "cell_type": "code",
      "metadata": {
        "id": "GWop5dZV0H2R"
      },
      "source": [
        "################################################################################\n",
        "# GET STARTED \n",
        "################################################################################\n",
        "import cantera as ct\n",
        "import numpy as np"
      ],
      "execution_count": 2,
      "outputs": []
    },
    {
      "cell_type": "markdown",
      "metadata": {
        "id": "LgkE9BZR2saY"
      },
      "source": [
        "create an object, gas1 that implements GRI- Mech 3.0, the 53-species, 325-reaction natural gas combustion mechanism developed by Gregory P. Smith, David M. Golden, Michael Frenklach, Nigel W. Moriarty, Boris Eiteneer, Mikhail Goldenberg, C. Thomas Bowman, Ronald K. Hanson, Soonho Song, William C. Gardiner, Jr., Vitali V. Lissianski, and Zhiwei Qin. See http://combustion.berkeley.edu/gri-mech/ for more information."
      ]
    },
    {
      "cell_type": "code",
      "metadata": {
        "colab": {
          "base_uri": "https://localhost:8080/"
        },
        "id": "2QJi4CK_0ybR",
        "outputId": "2a48cfc2-cb2d-4c47-e829-7fb8a8101f6f"
      },
      "source": [
        "gas1 = ct.Solution('gri30.yaml')\n",
        "gas1()"
      ],
      "execution_count": 3,
      "outputs": [
        {
          "output_type": "stream",
          "text": [
            "\n",
            "  gri30:\n",
            "\n",
            "       temperature   300 K\n",
            "          pressure   1.0133e+05 Pa\n",
            "           density   0.081894 kg/m^3\n",
            "  mean mol. weight   2.016 kg/kmol\n",
            "   phase of matter   gas\n",
            "\n",
            "                          1 kg             1 kmol     \n",
            "                     ---------------   ---------------\n",
            "          enthalpy             26469             53361  J\n",
            "   internal energy       -1.2108e+06        -2.441e+06  J\n",
            "           entropy             64910        1.3086e+05  J/K\n",
            "    Gibbs function       -1.9447e+07       -3.9204e+07  J\n",
            " heat capacity c_p             14311             28851  J/K\n",
            " heat capacity c_v             10187             20536  J/K\n",
            "\n",
            "                      mass frac. Y      mole frac. X     chem. pot. / RT\n",
            "                     ---------------   ---------------   ---------------\n",
            "                H2                 1                 1           -15.717\n",
            "     [  +52 minor]                 0                 0  \n",
            "\n"
          ],
          "name": "stdout"
        }
      ]
    },
    {
      "cell_type": "code",
      "metadata": {
        "colab": {
          "base_uri": "https://localhost:8080/"
        },
        "id": "0jSsNCZz00wI",
        "outputId": "608fd211-688a-41ec-d2cf-44309f9721ed"
      },
      "source": [
        "################################################################################\n",
        "# Setting the State¶\n",
        "################################################################################\n",
        "gas1.TP = 1200, 101325\n",
        "gas1()"
      ],
      "execution_count": 4,
      "outputs": [
        {
          "output_type": "stream",
          "text": [
            "\n",
            "  gri30:\n",
            "\n",
            "       temperature   1200 K\n",
            "          pressure   1.0133e+05 Pa\n",
            "           density   0.020473 kg/m^3\n",
            "  mean mol. weight   2.016 kg/kmol\n",
            "   phase of matter   gas\n",
            "\n",
            "                          1 kg             1 kmol     \n",
            "                     ---------------   ---------------\n",
            "          enthalpy        1.3295e+07        2.6802e+07  J\n",
            "   internal energy        8.3457e+06        1.6825e+07  J\n",
            "           entropy             85222        1.7181e+05  J/K\n",
            "    Gibbs function       -8.8972e+07       -1.7937e+08  J\n",
            " heat capacity c_p             15377             31000  J/K\n",
            " heat capacity c_v             11253             22686  J/K\n",
            "\n",
            "                      mass frac. Y      mole frac. X     chem. pot. / RT\n",
            "                     ---------------   ---------------   ---------------\n",
            "                H2                 1                 1           -17.978\n",
            "     [  +52 minor]                 0                 0  \n",
            "\n"
          ],
          "name": "stdout"
        }
      ]
    },
    {
      "cell_type": "markdown",
      "metadata": {
        "id": "2BW_yShC26LA"
      },
      "source": [
        "sets the temperature to 1200 K and the pressure to 101325 Pa (Cantera always uses SI units)"
      ]
    },
    {
      "cell_type": "code",
      "metadata": {
        "id": "UCdq4g-920RW"
      },
      "source": [
        "################################################################################\n",
        "# Setting the State¶\n",
        "'''\n",
        "Thermodynamics generally requires that two properties in addition to composition information be specified to fix the intensive state of a substance (or mixture). \n",
        "The state of the mixture can be set using several combinations of two properties. \n",
        "'''\n",
        "################################################################################\n",
        "gas1.TP = 1200, 101325        # temperature, pressure\n",
        "gas1.TD = 1200, 0.0204723       # temperature, density\n",
        "gas1.HP = 1.32956e7, 101325      # specific enthalpy, pressure\n",
        "gas1.UV = 8.34619e6, 1/0.0204723   # specific internal energy, specific volume\n",
        "gas1.SP = 85227.6, 101325       # specific entropy, pressure\n",
        "gas1.SV = 85227.6, 1/0.0204723    # specific entropy, specific volume"
      ],
      "execution_count": 6,
      "outputs": []
    },
    {
      "cell_type": "code",
      "metadata": {
        "colab": {
          "base_uri": "https://localhost:8080/"
        },
        "id": "OVGkFkd03HqW",
        "outputId": "fa74f264-9ff6-45d8-ab56-f8151487463c"
      },
      "source": [
        "gas1.T"
      ],
      "execution_count": 7,
      "outputs": [
        {
          "output_type": "execute_result",
          "data": {
            "text/plain": [
              "1200.5188172713504"
            ]
          },
          "metadata": {
            "tags": []
          },
          "execution_count": 7
        }
      ]
    },
    {
      "cell_type": "code",
      "metadata": {
        "colab": {
          "base_uri": "https://localhost:8080/"
        },
        "id": "_Ea_IrKk4BZ-",
        "outputId": "6062abbd-370e-405e-f694-b4a856b60a10"
      },
      "source": [
        "gas1.h"
      ],
      "execution_count": 8,
      "outputs": [
        {
          "output_type": "execute_result",
          "data": {
            "text/plain": [
              "13302755.250164837"
            ]
          },
          "metadata": {
            "tags": []
          },
          "execution_count": 8
        }
      ]
    },
    {
      "cell_type": "code",
      "metadata": {
        "colab": {
          "base_uri": "https://localhost:8080/"
        },
        "id": "_WknoZYp4C89",
        "outputId": "057d6e08-5a5a-4774-da6d-fb7fab83a112"
      },
      "source": [
        "gas1.UV"
      ],
      "execution_count": 9,
      "outputs": [
        {
          "output_type": "execute_result",
          "data": {
            "text/plain": [
              "(8351530.632807602, 48.84649013545132)"
            ]
          },
          "metadata": {
            "tags": []
          },
          "execution_count": 9
        }
      ]
    },
    {
      "cell_type": "code",
      "metadata": {
        "colab": {
          "base_uri": "https://localhost:8080/"
        },
        "id": "Q6_n6UZe4FD8",
        "outputId": "68330a4f-675f-40bf-d389-9f9b23bfa959"
      },
      "source": [
        "################################################################################\n",
        "# The composition can be set in terms of either mole fractions (X) or mass fractions (Y):\n",
        "################################################################################\n",
        "gas1.X = 'CH4:1, O2:2, N2:7.52'\n",
        "gas1()"
      ],
      "execution_count": 11,
      "outputs": [
        {
          "output_type": "stream",
          "text": [
            "\n",
            "  gri30:\n",
            "\n",
            "       temperature   1200.5 K\n",
            "          pressure   7394.9 Pa\n",
            "           density   0.020472 kg/m^3\n",
            "  mean mol. weight   27.633 kg/kmol\n",
            "   phase of matter   gas\n",
            "\n",
            "                          1 kg             1 kmol     \n",
            "                     ---------------   ---------------\n",
            "          enthalpy        8.6266e+05        2.3838e+07  J\n",
            "   internal energy        5.0144e+05        1.3857e+07  J\n",
            "           entropy            9702.4        2.6811e+05  J/K\n",
            "    Gibbs function       -1.0785e+07       -2.9803e+08  J\n",
            " heat capacity c_p            1397.4             38615  J/K\n",
            " heat capacity c_v            1096.5             30300  J/K\n",
            "\n",
            "                      mass frac. Y      mole frac. X     chem. pot. / RT\n",
            "                     ---------------   ---------------   ---------------\n",
            "                O2           0.22014           0.19011           -31.366\n",
            "               CH4          0.055187          0.095057           -38.578\n",
            "                N2           0.72467           0.71483           -28.298\n",
            "     [  +50 minor]                 0                 0  \n",
            "\n"
          ],
          "name": "stdout"
        }
      ]
    },
    {
      "cell_type": "code",
      "metadata": {
        "colab": {
          "base_uri": "https://localhost:8080/"
        },
        "id": "qZ8m6f_S5EZO",
        "outputId": "c4f8e079-8efa-4a9b-a604-95cfbb3262ec"
      },
      "source": [
        "################################################################################\n",
        "# Mass and mole fractions can also be set using dict objects, which is convenient in cases where the composition is stored in a variable or being computed:\n",
        "################################################################################\n",
        "phi = 0.8\n",
        "gas1.X = {'CH4':1, 'O2':2/phi, 'N2':2*3.76/phi}\n",
        "gas1()"
      ],
      "execution_count": 12,
      "outputs": [
        {
          "output_type": "stream",
          "text": [
            "\n",
            "  gri30:\n",
            "\n",
            "       temperature   1200.5 K\n",
            "          pressure   7335.3 Pa\n",
            "           density   0.020472 kg/m^3\n",
            "  mean mol. weight   27.858 kg/kmol\n",
            "   phase of matter   gas\n",
            "\n",
            "                          1 kg             1 kmol     \n",
            "                     ---------------   ---------------\n",
            "          enthalpy        8.8646e+05        2.4695e+07  J\n",
            "   internal energy        5.2816e+05        1.4714e+07  J\n",
            "           entropy            9601.2        2.6747e+05  J/K\n",
            "    Gibbs function        -1.064e+07       -2.9641e+08  J\n",
            " heat capacity c_p            1356.3             37785  J/K\n",
            " heat capacity c_v            1057.9             29470  J/K\n",
            "\n",
            "                      mass frac. Y      mole frac. X     chem. pot. / RT\n",
            "                     ---------------   ---------------   ---------------\n",
            "                O2            0.2226            0.1938           -31.355\n",
            "               CH4          0.044642          0.077519            -38.79\n",
            "                N2           0.73276           0.72868           -28.287\n",
            "     [  +50 minor]                 0                 0  \n",
            "\n"
          ],
          "name": "stdout"
        }
      ]
    },
    {
      "cell_type": "markdown",
      "metadata": {
        "id": "MjN7hJmC5_ZU"
      },
      "source": [
        "When the composition alone is changed, the temperature and density are held constant. This means that the pressure and other intensive properties will change. The composition can also be set in conjunction with the intensive properties of the mixture:"
      ]
    },
    {
      "cell_type": "code",
      "metadata": {
        "colab": {
          "base_uri": "https://localhost:8080/"
        },
        "id": "fRbTqIUB5-5V",
        "outputId": "5b3ab7b9-ea09-4677-8f77-3c699c9fd72e"
      },
      "source": [
        "gas1.TPX = 1200, 101325, 'CH4:1, O2:2, N2:7.52'\n",
        "gas1()"
      ],
      "execution_count": 13,
      "outputs": [
        {
          "output_type": "stream",
          "text": [
            "\n",
            "  gri30:\n",
            "\n",
            "       temperature   1200 K\n",
            "          pressure   1.0133e+05 Pa\n",
            "           density   0.28063 kg/m^3\n",
            "  mean mol. weight   27.633 kg/kmol\n",
            "   phase of matter   gas\n",
            "\n",
            "                          1 kg             1 kmol     \n",
            "                     ---------------   ---------------\n",
            "          enthalpy        8.6193e+05        2.3818e+07  J\n",
            "   internal energy        5.0087e+05        1.3841e+07  J\n",
            "           entropy            8914.2        2.4633e+05  J/K\n",
            "    Gibbs function       -9.8351e+06       -2.7178e+08  J\n",
            " heat capacity c_p            1397.3             38611  J/K\n",
            " heat capacity c_v            1096.4             30296  J/K\n",
            "\n",
            "                      mass frac. Y      mole frac. X     chem. pot. / RT\n",
            "                     ---------------   ---------------   ---------------\n",
            "                O2           0.22014           0.19011           -28.747\n",
            "               CH4          0.055187          0.095057           -35.961\n",
            "                N2           0.72467           0.71483           -25.679\n",
            "     [  +50 minor]                 0                 0  \n",
            "\n"
          ],
          "name": "stdout"
        }
      ]
    },
    {
      "cell_type": "markdown",
      "metadata": {
        "id": "UfCpE0lO6bam"
      },
      "source": [
        "The composition above was specified using a string. The format is a comma- separated list of <species name>:<relative mole numbers> pairs. The mole numbers will be normalized to produce the mole fractions, and therefore they are \"relative\" mole numbers. Mass fractions can be set in this way too by changing X to Y in the above statements."
      ]
    },
    {
      "cell_type": "markdown",
      "metadata": {
        "id": "PU6iaQPr6m3F"
      },
      "source": [
        "The composition can also be set using an array, which must have the same size as the number of species. For example, to set all 53 mole fractions to the same value, do this:"
      ]
    },
    {
      "cell_type": "code",
      "metadata": {
        "colab": {
          "base_uri": "https://localhost:8080/"
        },
        "id": "HirUbL0C6ERE",
        "outputId": "7de666e8-2ba7-4eb0-8d41-b4b471984070"
      },
      "source": [
        "gas1.X = np.ones(53)  # NumPy array of 53 ones\n",
        "gas1()"
      ],
      "execution_count": 15,
      "outputs": [
        {
          "output_type": "stream",
          "text": [
            "\n",
            "  gri30:\n",
            "\n",
            "       temperature   1200 K\n",
            "          pressure   96968 Pa\n",
            "           density   0.28063 kg/m^3\n",
            "  mean mol. weight   28.875 kg/kmol\n",
            "   phase of matter   gas\n",
            "\n",
            "                          1 kg             1 kmol     \n",
            "                     ---------------   ---------------\n",
            "          enthalpy         5.488e+06        1.5847e+08  J\n",
            "   internal energy        5.1425e+06        1.4849e+08  J\n",
            "           entropy             11001        3.1766e+05  J/K\n",
            "    Gibbs function       -7.7133e+06       -2.2272e+08  J\n",
            " heat capacity c_p            2239.5             64665  J/K\n",
            " heat capacity c_v            1951.5             56351  J/K\n",
            "\n",
            "                      mass frac. Y      mole frac. X     chem. pot. / RT\n",
            "                     ---------------   ---------------   ---------------\n",
            "                H2         0.0013173          0.018868           -21.992\n",
            "                 H        0.00065866          0.018868            2.4353\n",
            "                 O          0.010454          0.018868         -0.055742\n",
            "                O2          0.020908          0.018868           -31.101\n",
            "                OH          0.011113          0.018868           -24.459\n",
            "               H2O          0.011772          0.018868           -53.716\n",
            "               HO2          0.021567          0.018868           -33.378\n",
            "              H2O2          0.022226          0.018868            -49.72\n",
            "                 C         0.0078483          0.018868            47.197\n",
            "                CH          0.008507          0.018868            31.548\n",
            "               CH2         0.0091656          0.018868            8.9729\n",
            "            CH2(S)         0.0091656          0.018868            13.472\n",
            "               CH3         0.0098243          0.018868           -16.143\n",
            "               CH4          0.010483          0.018868           -37.622\n",
            "                CO          0.018303          0.018868           -41.191\n",
            "               CO2          0.028757          0.018868           -72.598\n",
            "               HCO          0.018961          0.018868           -29.809\n",
            "              CH2O           0.01962          0.018868           -44.651\n",
            "             CH2OH          0.020279          0.018868           -39.409\n",
            "              CH3O          0.020279          0.018868           -33.942\n",
            "             CH3OH          0.020937          0.018868           -57.677\n",
            "               C2H          0.016355          0.018868             23.54\n",
            "              C2H2          0.017014          0.018868           -9.5007\n",
            "              C2H3          0.017673          0.018868           -6.5419\n",
            "              C2H4          0.018331          0.018868           -29.979\n",
            "              C2H5           0.01899          0.018868           -27.426\n",
            "              C2H6          0.019649          0.018868           -46.084\n",
            "              HCCO           0.02681          0.018868           -20.362\n",
            "             CH2CO          0.027468          0.018868           -42.939\n",
            "             HCCOH          0.027468          0.018868           -29.956\n",
            "                 N         0.0091526          0.018868             23.32\n",
            "                NH         0.0098112          0.018868            7.6861\n",
            "               NH2           0.01047          0.018868           -11.041\n",
            "               NH3          0.011129          0.018868           -35.097\n",
            "               NNH          0.018964          0.018868           -9.0571\n",
            "                NO          0.019607          0.018868           -22.595\n",
            "               NO2          0.030061          0.018868           -32.841\n",
            "               N2O          0.028759          0.018868           -25.826\n",
            "               HNO          0.020265          0.018868           -22.889\n",
            "                CN          0.017001          0.018868            13.245\n",
            "               HCN           0.01766          0.018868           -18.395\n",
            "              H2CN          0.018318          0.018868           -9.9256\n",
            "              HCNN          0.026812          0.018868            7.6839\n",
            "              HCNO          0.028114          0.018868            -20.48\n",
            "              HOCN          0.028114          0.018868           -38.496\n",
            "              HNCO          0.028114          0.018868           -49.088\n",
            "               NCO          0.027455          0.018868           -22.369\n",
            "                N2          0.018305          0.018868           -29.357\n",
            "                AR          0.026104          0.018868           -24.227\n",
            "              C3H7          0.028156          0.018868           -36.993\n",
            "              C3H8          0.028814          0.018868           -55.673\n",
            "            CH2CHO          0.028127          0.018868           -39.229\n",
            "            CH3CHO          0.028786          0.018868           -58.386\n",
            "\n"
          ],
          "name": "stdout"
        }
      ]
    },
    {
      "cell_type": "markdown",
      "metadata": {
        "id": "yVd11qDQ6vtb"
      },
      "source": [
        "Or, to set all the mass fractions to equal values:"
      ]
    },
    {
      "cell_type": "code",
      "metadata": {
        "colab": {
          "base_uri": "https://localhost:8080/"
        },
        "id": "2mjZ1G786p6i",
        "outputId": "f9ed7171-fb51-47f6-d590-0e7425a8a354"
      },
      "source": [
        "gas1.Y = np.ones(53)\n",
        "gas1()"
      ],
      "execution_count": 16,
      "outputs": [
        {
          "output_type": "stream",
          "text": [
            "\n",
            "  gri30:\n",
            "\n",
            "       temperature   1200 K\n",
            "          pressure   1.8411e+05 Pa\n",
            "           density   0.28063 kg/m^3\n",
            "  mean mol. weight   15.208 kg/kmol\n",
            "   phase of matter   gas\n",
            "\n",
            "                          1 kg             1 kmol     \n",
            "                     ---------------   ---------------\n",
            "          enthalpy        1.2527e+07        1.9051e+08  J\n",
            "   internal energy        1.1871e+07        1.8053e+08  J\n",
            "           entropy             15940        2.4242e+05  J/K\n",
            "    Gibbs function       -6.6012e+06       -1.0039e+08  J\n",
            " heat capacity c_p            2898.3             44079  J/K\n",
            " heat capacity c_v            2351.6             35764  J/K\n",
            "\n",
            "                      mass frac. Y      mole frac. X     chem. pot. / RT\n",
            "                     ---------------   ---------------   ---------------\n",
            "                H2          0.018868           0.14234            -19.33\n",
            "                 H          0.018868           0.28467            5.7903\n",
            "                 O          0.018868          0.017935           0.53472\n",
            "                O2          0.018868         0.0089677           -31.204\n",
            "                OH          0.018868          0.016872            -23.93\n",
            "               H2O          0.018868          0.015928           -53.245\n",
            "               HO2          0.018868         0.0086938           -33.512\n",
            "              H2O2          0.018868         0.0084362           -49.883\n",
            "                 C          0.018868          0.023891            48.074\n",
            "                CH          0.018868          0.022041            32.344\n",
            "               CH2          0.018868          0.020457            9.6949\n",
            "            CH2(S)          0.018868          0.020457            14.194\n",
            "               CH3          0.018868          0.019085            -15.49\n",
            "               CH4          0.018868          0.017886           -37.034\n",
            "                CO          0.018868          0.010245            -41.16\n",
            "               CO2          0.018868         0.0065202            -73.02\n",
            "               HCO          0.018868         0.0098887           -29.814\n",
            "              CH2O          0.018868         0.0095567            -44.69\n",
            "             CH2OH          0.018868         0.0092463           -39.481\n",
            "              CH3O          0.018868         0.0092463           -34.014\n",
            "             CH3OH          0.018868         0.0089554           -57.781\n",
            "               C2H          0.018868          0.011464            23.683\n",
            "              C2H2          0.018868           0.01102           -9.3973\n",
            "              C2H3          0.018868           0.01061           -6.4765\n",
            "              C2H4          0.018868          0.010228            -29.95\n",
            "              C2H5          0.018868         0.0098737           -27.432\n",
            "              C2H6          0.018868         0.0095427           -46.124\n",
            "              HCCO          0.018868         0.0069938           -20.713\n",
            "             CH2CO          0.018868         0.0068261           -43.315\n",
            "             HCCOH          0.018868         0.0068261           -30.332\n",
            "                 N          0.018868          0.020486            24.044\n",
            "                NH          0.018868          0.019111              8.34\n",
            "               NH2          0.018868          0.017909           -10.452\n",
            "               NH3          0.018868          0.016849           -34.569\n",
            "               NNH          0.018868         0.0098873           -9.0622\n",
            "                NO          0.018868         0.0095631           -22.633\n",
            "               NO2          0.018868         0.0062373           -33.307\n",
            "               N2O          0.018868         0.0065196           -26.247\n",
            "               HNO          0.018868         0.0092522            -22.96\n",
            "                CN          0.018868          0.011029            13.349\n",
            "               HCN          0.018868          0.010618           -18.329\n",
            "              H2CN          0.018868          0.010236           -9.8961\n",
            "              HCNN          0.018868         0.0069931            7.3325\n",
            "              HCNO          0.018868         0.0066694           -20.878\n",
            "              HOCN          0.018868         0.0066694           -38.895\n",
            "              HNCO          0.018868         0.0066694           -49.487\n",
            "               NCO          0.018868         0.0068294           -22.744\n",
            "                N2          0.018868          0.010243           -29.327\n",
            "                AR          0.018868         0.0071827           -24.551\n",
            "              C3H7          0.018868         0.0066594           -37.393\n",
            "              C3H8          0.018868         0.0065072           -56.097\n",
            "            CH2CHO          0.018868         0.0066663           -39.628\n",
            "            CH3CHO          0.018868         0.0065137           -58.809\n",
            "\n"
          ],
          "name": "stdout"
        }
      ]
    },
    {
      "cell_type": "markdown",
      "metadata": {
        "id": "_QOpB2Dn63ec"
      },
      "source": [
        "When setting the state, you can control what properties are held constant by passing the special value None to the property setter. For example, to change the specific volume to 2.1 m3/kg while holding entropy constant:"
      ]
    },
    {
      "cell_type": "code",
      "metadata": {
        "colab": {
          "base_uri": "https://localhost:8080/"
        },
        "id": "1er9ro5D6yT6",
        "outputId": "32b26a4a-b02a-4d43-d86d-d0f82bdf7cae"
      },
      "source": [
        "gas1.SV = None, 2.1\n",
        "gas1()"
      ],
      "execution_count": 18,
      "outputs": [
        {
          "output_type": "stream",
          "text": [
            "\n",
            "  gri30:\n",
            "\n",
            "       temperature   1354 K\n",
            "          pressure   3.5251e+05 Pa\n",
            "           density   0.47619 kg/m^3\n",
            "  mean mol. weight   15.208 kg/kmol\n",
            "   phase of matter   gas\n",
            "\n",
            "                          1 kg             1 kmol     \n",
            "                     ---------------   ---------------\n",
            "          enthalpy         1.298e+07         1.974e+08  J\n",
            "   internal energy        1.2239e+07        1.8614e+08  J\n",
            "           entropy             15940        2.4242e+05  J/K\n",
            "    Gibbs function       -8.6036e+06       -1.3085e+08  J\n",
            " heat capacity c_p            2981.9             45350  J/K\n",
            " heat capacity c_v            2435.2             37036  J/K\n",
            "\n",
            "                      mass frac. Y      mole frac. X     chem. pot. / RT\n",
            "                     ---------------   ---------------   ---------------\n",
            "                H2          0.018868           0.14234           -19.012\n",
            "                 H          0.018868           0.28467            3.7229\n",
            "                 O          0.018868          0.017935           -1.8916\n",
            "                O2          0.018868         0.0089677           -30.924\n",
            "                OH          0.018868          0.016872           -24.066\n",
            "               H2O          0.018868          0.015928           -50.269\n",
            "               HO2          0.018868         0.0086938           -33.496\n",
            "              H2O2          0.018868         0.0084362           -48.318\n",
            "                 C          0.018868          0.023891             40.32\n",
            "                CH          0.018868          0.022041            25.837\n",
            "               CH2          0.018868          0.020457            5.4069\n",
            "            CH2(S)          0.018868          0.020457            9.4875\n",
            "               CH3          0.018868          0.019085           -17.103\n",
            "               CH4          0.018868          0.017886           -36.222\n",
            "                CO          0.018868          0.010245           -39.603\n",
            "               CO2          0.018868         0.0065202           -68.438\n",
            "               HCO          0.018868         0.0098887           -30.132\n",
            "              CH2O          0.018868         0.0095567           -43.402\n",
            "             CH2OH          0.018868         0.0092463           -39.436\n",
            "              CH3O          0.018868         0.0092463           -34.287\n",
            "             CH3OH          0.018868         0.0089554            -55.69\n",
            "               C2H          0.018868          0.011464            17.323\n",
            "              C2H2          0.018868           0.01102           -12.038\n",
            "              C2H3          0.018868           0.01061            -10.02\n",
            "              C2H4          0.018868          0.010228           -30.787\n",
            "              C2H5          0.018868         0.0098737           -29.155\n",
            "              C2H6          0.018868         0.0095427           -45.661\n",
            "              HCCO          0.018868         0.0069938           -22.803\n",
            "             CH2CO          0.018868         0.0068261           -42.967\n",
            "             HCCOH          0.018868         0.0068261           -31.468\n",
            "                 N          0.018868          0.020486            19.073\n",
            "                NH          0.018868          0.019111             4.581\n",
            "               NH2          0.018868          0.017909           -12.441\n",
            "               NH3          0.018868          0.016849           -33.954\n",
            "               NNH          0.018868         0.0098873           -11.748\n",
            "                NO          0.018868         0.0095631           -23.386\n",
            "               NO2          0.018868         0.0062373           -33.589\n",
            "               N2O          0.018868         0.0065196           -27.095\n",
            "               HNO          0.018868         0.0092522           -24.006\n",
            "                CN          0.018868          0.011029            8.6413\n",
            "               HCN          0.018868          0.010618           -19.687\n",
            "              H2CN          0.018868          0.010236           -12.701\n",
            "              HCNN          0.018868         0.0069931             1.983\n",
            "              HCNO          0.018868         0.0066694           -22.902\n",
            "              HOCN          0.018868         0.0066694           -38.788\n",
            "              HNCO          0.018868         0.0066694           -48.193\n",
            "               NCO          0.018868         0.0068294           -24.173\n",
            "                N2          0.018868          0.010243           -29.027\n",
            "                AR          0.018868         0.0071827           -24.133\n",
            "              C3H7          0.018868         0.0066594           -39.396\n",
            "              C3H8          0.018868         0.0065072           -55.893\n",
            "            CH2CHO          0.018868         0.0066663           -40.217\n",
            "            CH3CHO          0.018868         0.0065137           -57.336\n",
            "\n"
          ],
          "name": "stdout"
        }
      ]
    },
    {
      "cell_type": "markdown",
      "metadata": {
        "id": "GK8F5YCY7ADj"
      },
      "source": [
        "Or to set the mass fractions while holding temperature and pressure constant:"
      ]
    },
    {
      "cell_type": "code",
      "metadata": {
        "colab": {
          "base_uri": "https://localhost:8080/"
        },
        "id": "KU64qEQH640K",
        "outputId": "1cf9f76d-79f3-4260-c14c-fae6f5502a02"
      },
      "source": [
        "gas1.TPX = None, None, 'CH4:1.0, O2:0.5'\n",
        "gas1()"
      ],
      "execution_count": 20,
      "outputs": [
        {
          "output_type": "stream",
          "text": [
            "\n",
            "  gri30:\n",
            "\n",
            "       temperature   1354 K\n",
            "          pressure   3.5251e+05 Pa\n",
            "           density   0.66885 kg/m^3\n",
            "  mean mol. weight   21.361 kg/kmol\n",
            "   phase of matter   gas\n",
            "\n",
            "                          1 kg             1 kmol     \n",
            "                     ---------------   ---------------\n",
            "          enthalpy        3.1713e+05        6.7743e+06  J\n",
            "   internal energy       -2.0991e+05       -4.4839e+06  J\n",
            "           entropy             12237        2.6141e+05  J/K\n",
            "    Gibbs function       -1.6253e+07       -3.4718e+08  J\n",
            " heat capacity c_p            3260.1             69641  J/K\n",
            " heat capacity c_v            2870.9             61326  J/K\n",
            "\n",
            "                      mass frac. Y      mole frac. X     chem. pot. / RT\n",
            "                     ---------------   ---------------   ---------------\n",
            "                O2           0.49931           0.33333           -27.308\n",
            "               CH4           0.50069           0.66667           -32.604\n",
            "     [  +51 minor]                 0                 0  \n",
            "\n"
          ],
          "name": "stdout"
        }
      ]
    },
    {
      "cell_type": "code",
      "metadata": {
        "id": "fQXk1LE07BYh"
      },
      "source": [
        "################################################################################\n",
        "# Working with a Subset of Species\n",
        "################################################################################"
      ],
      "execution_count": null,
      "outputs": []
    },
    {
      "cell_type": "markdown",
      "metadata": {
        "id": "bLLtbt-v7sJU"
      },
      "source": [
        "Many properties of a Solution() provide values for each species present in the phase. If you want to get values only for a subset of these species, you can use Python's \"slicing\" syntax to select data for just the species of interest. To get the mole fractions of just the major species in gas1, in the order specified, you can write:"
      ]
    },
    {
      "cell_type": "code",
      "metadata": {
        "colab": {
          "base_uri": "https://localhost:8080/"
        },
        "id": "O19-QcpW7sVR",
        "outputId": "64be85ab-92eb-4763-9e01-9566c5b0a1f7"
      },
      "source": [
        "Xmajor = gas1['CH4','O2','CO2','H2O','N2'].X\n",
        "Xmajor"
      ],
      "execution_count": 22,
      "outputs": [
        {
          "output_type": "execute_result",
          "data": {
            "text/plain": [
              "array([0.66666667, 0.33333333, 0.        , 0.        , 0.        ])"
            ]
          },
          "metadata": {
            "tags": []
          },
          "execution_count": 22
        }
      ]
    },
    {
      "cell_type": "markdown",
      "metadata": {
        "id": "pa84Anjp72yD"
      },
      "source": [
        "If you want to use the same set of species repeatedly, you can keep a reference to the sliced phase object:"
      ]
    },
    {
      "cell_type": "markdown",
      "metadata": {
        "id": "lY6uyhFI75Cq"
      },
      "source": [
        "The slice object and the original object share the same internal state, so modifications to one will affect the other."
      ]
    },
    {
      "cell_type": "code",
      "metadata": {
        "id": "yfTI-eD_7uji"
      },
      "source": [
        "major = gas1['CH4','O2','CO2','H2O','N2']\n",
        "cp_major = major.partial_molar_cp\n",
        "wdot_major = major.net_production_rates"
      ],
      "execution_count": 23,
      "outputs": []
    },
    {
      "cell_type": "code",
      "metadata": {
        "colab": {
          "base_uri": "https://localhost:8080/"
        },
        "id": "sQlzZpUH76cR",
        "outputId": "ad3fdf39-ea1c-490c-dfbd-29f276e49500"
      },
      "source": [
        "cp_major"
      ],
      "execution_count": 24,
      "outputs": [
        {
          "output_type": "execute_result",
          "data": {
            "text/plain": [
              "array([86384.59476335, 36152.88383117, 57493.62619355, 45699.99122328,\n",
              "       34314.82163613])"
            ]
          },
          "metadata": {
            "tags": []
          },
          "execution_count": 24
        }
      ]
    },
    {
      "cell_type": "code",
      "metadata": {
        "colab": {
          "base_uri": "https://localhost:8080/"
        },
        "id": "lKuVZDxJ77fJ",
        "outputId": "10daef8d-81d4-4dc5-90ba-3de3eec40f26"
      },
      "source": [
        "wdot_major"
      ],
      "execution_count": 25,
      "outputs": [
        {
          "output_type": "execute_result",
          "data": {
            "text/plain": [
              "array([-0.01561915, -0.01468015,  0.        ,  0.        ,  0.        ])"
            ]
          },
          "metadata": {
            "tags": []
          },
          "execution_count": 25
        }
      ]
    }
  ]
}