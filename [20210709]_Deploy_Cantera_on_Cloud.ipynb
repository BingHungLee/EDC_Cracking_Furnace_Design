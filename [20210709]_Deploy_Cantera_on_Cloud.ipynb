{
  "nbformat": 4,
  "nbformat_minor": 0,
  "metadata": {
    "colab": {
      "name": "[210709]_Deploy_Cantera_on_Cloud.ipynb",
      "provenance": [],
      "authorship_tag": "ABX9TyNj9fexNti1CzdDTceEsVfl",
      "include_colab_link": true
    },
    "kernelspec": {
      "name": "python3",
      "display_name": "Python 3"
    },
    "language_info": {
      "name": "python"
    }
  },
  "cells": [
    {
      "cell_type": "markdown",
      "metadata": {
        "id": "view-in-github",
        "colab_type": "text"
      },
      "source": [
        "<a href=\"https://colab.research.google.com/github/BingHungLee/EDC_Cracking_Furnace_Design/blob/main/%5B210709%5D_Deploy_Cantera_on_Cloud.ipynb\" target=\"_parent\"><img src=\"https://colab.research.google.com/assets/colab-badge.svg\" alt=\"Open In Colab\"/></a>"
      ]
    },
    {
      "cell_type": "markdown",
      "metadata": {
        "id": "EDhiscompA01"
      },
      "source": [
        "# Deploy Cantera on Google Colab through Conda\n",
        "- Cantera is an open-source suite of tools for problems involving chemical kinetics, thermodynamics, and transport processes.\n",
        "\n",
        "## Reference Sites\n",
        "\n",
        "* [Cantera Python Tutorial](https://cantera.org/tutorials/python-tutorial.html)\n",
        "* [Cantera Installing with Conda](https://cantera.org/install/conda-install.html)"
      ]
    },
    {
      "cell_type": "markdown",
      "metadata": {
        "id": "f1adF3rWpm31"
      },
      "source": [
        "## Step1 Install Conda on Google Colab"
      ]
    },
    {
      "cell_type": "code",
      "metadata": {
        "colab": {
          "base_uri": "https://localhost:8080/"
        },
        "id": "M1Vd3ndhXJgQ",
        "outputId": "4f053f7b-7a83-459b-96e1-459ba089d9cf"
      },
      "source": [
        "################################################################################\n",
        "# INSTALL CONDA ON GOOGLE COLAB\n",
        "################################################################################\n",
        "! wget https://repo.anaconda.com/miniconda/Miniconda3-py37_4.8.2-Linux-x86_64.sh\n",
        "! chmod +x Miniconda3-py37_4.8.2-Linux-x86_64.sh\n",
        "! bash ./Miniconda3-py37_4.8.2-Linux-x86_64.sh -b -f -p /usr/local\n",
        "import sys\n",
        "sys.path.append('/usr/local/lib/python3.7/site-packages/')"
      ],
      "execution_count": 13,
      "outputs": [
        {
          "output_type": "stream",
          "text": [
            "--2021-07-09 05:05:44--  https://repo.anaconda.com/miniconda/Miniconda3-py37_4.8.2-Linux-x86_64.sh\n",
            "Resolving repo.anaconda.com (repo.anaconda.com)... 104.16.131.3, 104.16.130.3, 2606:4700::6810:8303, ...\n",
            "Connecting to repo.anaconda.com (repo.anaconda.com)|104.16.131.3|:443... connected.\n",
            "HTTP request sent, awaiting response... 200 OK\n",
            "Length: 85055499 (81M) [application/x-sh]\n",
            "Saving to: ‘Miniconda3-py37_4.8.2-Linux-x86_64.sh.1’\n",
            "\n",
            "Miniconda3-py37_4.8 100%[===================>]  81.12M   139MB/s    in 0.6s    \n",
            "\n",
            "2021-07-09 05:05:44 (139 MB/s) - ‘Miniconda3-py37_4.8.2-Linux-x86_64.sh.1’ saved [85055499/85055499]\n",
            "\n",
            "PREFIX=/usr/local\n",
            "Unpacking payload ...\n",
            "Collecting package metadata (current_repodata.json): - \b\b\\ \b\b| \b\b/ \b\bdone\n",
            "Solving environment: \\ \b\b| \b\b/ \b\b- \b\b\\ \b\b| \b\b/ \b\b- \b\b\\ \b\b| \b\b/ \b\b- \b\b\\ \b\b| \b\b/ \n",
            "The environment is inconsistent, please check the package plan carefully\n",
            "The following packages are causing the inconsistency:\n",
            "\n",
            "  - defaults/linux-64::libgfortran-ng==7.5.0=ha8ba4b0_17\n",
            "  - defaults/linux-64::hdf5==1.10.6=hb1b8bf9_0\n",
            "  - cantera/linux-64::cantera==2.5.1=py37hb93dfd8_0\n",
            "  - defaults/linux-64::h5py==3.2.1=py37h6c542dc_0\n",
            "\b\b- \b\b\\ \b\b| \b\b/ \b\b- \b\b\\ \b\b| \b\b/ \b\b- \b\b\\ \b\b| \b\b/ \b\b- \b\b\\ \b\bfailed with initial frozen solve. Retrying with flexible solve.\n",
            "Solving environment: / \b\b- \b\b\\ \b\b| \b\b/ \b\b- \b\b\\ \b\b| \b\b/ \b\b- \b\b\\ \b\b| \b\b/ \b\b- \b\b\\ \b\b| \b\b/ \b\b- \b\bfailed with repodata from current_repodata.json, will retry with next repodata source.\n",
            "Collecting package metadata (repodata.json): | \b\b/ \b\bdone\n",
            "Solving environment: \\ \b\b| \b\b/ \b\b- \b\b\\ \b\b| \b\b/ \b\b- \b\b\\ \b\b| \b\b/ \b\b- \b\b\\ \b\b| \n",
            "The environment is inconsistent, please check the package plan carefully\n",
            "The following packages are causing the inconsistency:\n",
            "\n",
            "  - defaults/linux-64::libgfortran-ng==7.5.0=ha8ba4b0_17\n",
            "  - defaults/linux-64::hdf5==1.10.6=hb1b8bf9_0\n",
            "  - cantera/linux-64::cantera==2.5.1=py37hb93dfd8_0\n",
            "  - defaults/linux-64::h5py==3.2.1=py37h6c542dc_0\n",
            "\b\b/ \b\b- \b\b\\ \b\b| \b\b/ \b\b- \b\b\\ \b\b| \b\b/ \b\b- \b\b\\ \b\b| \b\b/ \b\bfailed with initial frozen solve. Retrying with flexible solve.\n",
            "Solving environment: \\ \b\b| \b\b/ \b\b- \b\b\\ \b\b| \b\b/ \b\b- \b\b\\ \b\b| \b\b/ \b\b- \b\b\\ \b\b| \b\b/ \b\b- \b\b\\ \b\b| \n",
            "Found conflicts! Looking for incompatible packages.\n",
            "This can take several minutes.  Press CTRL-C to abort.\n",
            "\b\bfailed\n",
            "\n",
            "# >>>>>>>>>>>>>>>>>>>>>> ERROR REPORT <<<<<<<<<<<<<<<<<<<<<<\n",
            "\n",
            "    Traceback (most recent call last):\n",
            "      File \"site-packages/conda/cli/install.py\", line 265, in install\n",
            "      File \"site-packages/conda/core/solve.py\", line 117, in solve_for_transaction\n",
            "      File \"site-packages/conda/core/solve.py\", line 158, in solve_for_diff\n",
            "      File \"site-packages/conda/core/solve.py\", line 281, in solve_final_state\n",
            "      File \"site-packages/conda/common/io.py\", line 88, in decorated\n",
            "      File \"site-packages/conda/core/solve.py\", line 808, in _run_sat\n",
            "      File \"site-packages/conda/common/io.py\", line 88, in decorated\n",
            "      File \"site-packages/conda/resolve.py\", line 1316, in solve\n",
            "    conda.exceptions.UnsatisfiableError: \n",
            "    Did not find conflicting dependencies. If you would like to know which\n",
            "    packages conflict ensure that you have enabled unsatisfiable hints.\n",
            "    \n",
            "    conda config --set unsatisfiable_hints True\n",
            "                \n",
            "    \n",
            "    During handling of the above exception, another exception occurred:\n",
            "    \n",
            "    Traceback (most recent call last):\n",
            "      File \"site-packages/conda/exceptions.py\", line 1079, in __call__\n",
            "      File \"site-packages/conda/cli/main.py\", line 84, in _main\n",
            "      File \"site-packages/conda/cli/conda_argparse.py\", line 82, in do_call\n",
            "      File \"site-packages/conda/cli/main_install.py\", line 20, in execute\n",
            "      File \"site-packages/conda/cli/install.py\", line 299, in install\n",
            "      File \"site-packages/conda/core/solve.py\", line 117, in solve_for_transaction\n",
            "      File \"site-packages/conda/core/solve.py\", line 158, in solve_for_diff\n",
            "      File \"site-packages/conda/core/solve.py\", line 281, in solve_final_state\n",
            "      File \"site-packages/conda/common/io.py\", line 88, in decorated\n",
            "      File \"site-packages/conda/core/solve.py\", line 808, in _run_sat\n",
            "      File \"site-packages/conda/common/io.py\", line 88, in decorated\n",
            "      File \"site-packages/conda/resolve.py\", line 1318, in solve\n",
            "      File \"site-packages/conda/resolve.py\", line 347, in find_conflicts\n",
            "      File \"site-packages/conda/resolve.py\", line 507, in build_conflict_map\n",
            "      File \"site-packages/conda/resolve.py\", line 369, in breadth_first_search_for_dep_graph\n",
            "      File \"site-packages/conda/models/match_spec.py\", line 481, in union\n",
            "      File \"site-packages/conda/models/match_spec.py\", line 475, in merge\n",
            "      File \"site-packages/conda/models/match_spec.py\", line 475, in <lambda>\n",
            "      File \"site-packages/conda/models/match_spec.py\", line 502, in _merge\n",
            "      File \"site-packages/conda/models/match_spec.py\", line 764, in union\n",
            "    TypeError: sequence item 0: expected str instance, Channel found\n",
            "\n",
            "`$ /usr/local/conda.exe install --offline --file /usr/local/pkgs/env.txt -yp /usr/local`\n",
            "\n",
            "  environment variables:\n",
            "                 CIO_TEST=<not set>\n",
            "           CONDA_CHANNELS=https://repo.anaconda.com/pkgs/main,https://repo.anaconda.com/pkgs/mai\n",
            "                          n,https://repo.anaconda.com/pkgs/r,https://repo.anaconda.com/pkgs/pro\n",
            "CONDA_EXTRA_SAFETY_CHECKS=no\n",
            "          CONDA_PKGS_DIRS=/usr/local/pkgs\n",
            "   CONDA_ROLLBACK_ENABLED=no\n",
            "               CONDA_ROOT=/tmp/_MEIkGBRw0\n",
            "      CONDA_SAFETY_CHECKS=disabled\n",
            "          LD_LIBRARY_PATH=/tmp/_MEIkGBRw0\n",
            "             LIBRARY_PATH=/usr/local/cuda/lib64/stubs\n",
            "      OLD_LD_LIBRARY_PATH=/usr/local/nvidia/lib:/usr/local/nvidia/lib64\n",
            "                     PATH=/usr/local/nvidia/bin:/usr/local/cuda/bin:/usr/local/sbin:/usr/local/b\n",
            "                          in:/usr/sbin:/usr/bin:/sbin:/bin:/tools/node/bin:/tools/google-cloud-\n",
            "                          sdk/bin:/opt/bin\n",
            "               PYTHONPATH=/env/python\n",
            "           PYTHONWARNINGS=ignore:::pip._internal.cli.base_command\n",
            "               PYTHON_CMD=/usr/bin/python3\n",
            "       REQUESTS_CA_BUNDLE=<not set>\n",
            "            SSL_CERT_FILE=/tmp/_MEIkGBRw0/certifi/cacert.pem\n",
            "\n",
            "     active environment : None\n",
            "       user config file : /root/.condarc\n",
            " populated config files : \n",
            "          conda version : 4.8.2\n",
            "    conda-build version : not installed\n",
            "         python version : 3.7.6.final.0\n",
            "       virtual packages : __glibc=2.27\n",
            "       base environment : /tmp/_MEIkGBRw0  (read only)\n",
            "           channel URLs : https://repo.anaconda.com/pkgs/main/linux-64  (offline)\n",
            "                          https://repo.anaconda.com/pkgs/main/noarch  (offline)\n",
            "                          https://repo.anaconda.com/pkgs/r/linux-64  (offline)\n",
            "                          https://repo.anaconda.com/pkgs/r/noarch  (offline)\n",
            "                          https://repo.anaconda.com/pkgs/pro/linux-64  (offline)\n",
            "                          https://repo.anaconda.com/pkgs/pro/noarch  (offline)\n",
            "          package cache : /usr/local/pkgs\n",
            "       envs directories : /root/.conda/envs\n",
            "                          /tmp/_MEIkGBRw0/envs\n",
            "               platform : linux-64\n",
            "             user-agent : conda/4.8.2 requests/2.22.0 CPython/3.7.6 Linux/5.4.104+ ubuntu/18.04.5 glibc/2.27\n",
            "                UID:GID : 0:0\n",
            "             netrc file : None\n",
            "           offline mode : True\n",
            "\n",
            "\n",
            "An unexpected error has occurred. Conda has prepared the above report.\n",
            "\n",
            "Upload successful.\n"
          ],
          "name": "stdout"
        }
      ]
    },
    {
      "cell_type": "markdown",
      "metadata": {
        "id": "EZ23HPwEptZM"
      },
      "source": [
        "## Step2 Install Cantera and other modules"
      ]
    },
    {
      "cell_type": "code",
      "metadata": {
        "colab": {
          "base_uri": "https://localhost:8080/"
        },
        "id": "vVgL2yWpXN6P",
        "outputId": "faadda30-e17d-4865-ac75-37d32dca6c35"
      },
      "source": [
        "!conda install --channel cantera cantera ipython matplotlib jupyter"
      ],
      "execution_count": 14,
      "outputs": [
        {
          "output_type": "stream",
          "text": [
            "Collecting package metadata (current_repodata.json): - \b\b\\ \b\b| \b\b/ \b\b- \b\b\\ \b\b| \b\b/ \b\b- \b\b\\ \b\b| \b\b/ \b\b- \b\b\\ \b\b| \b\b/ \b\b- \b\b\\ \b\b| \b\b/ \b\b- \b\b\\ \b\b| \b\b/ \b\b- \b\b\\ \b\b| \b\bdone\n",
            "Solving environment: - \b\b\\ \b\b| \b\b/ \b\b- \b\b\\ \b\b| \b\b/ \b\b- \b\b\\ \b\b| \b\b/ \b\b- \b\b\\ \b\b| \b\b/ \b\b- \b\b\\ \b\b| \b\b/ \b\b- \b\b\\ \b\b| \b\bdone\n",
            "\n",
            "# All requested packages already installed.\n",
            "\n"
          ],
          "name": "stdout"
        }
      ]
    },
    {
      "cell_type": "markdown",
      "metadata": {
        "id": "DpleXtkHp0Rk"
      },
      "source": [
        "## Step3 Check if the Cantera has been successfully installed?"
      ]
    },
    {
      "cell_type": "code",
      "metadata": {
        "colab": {
          "base_uri": "https://localhost:8080/"
        },
        "id": "WZ47ez1CXXKv",
        "outputId": "da10c690-530f-478d-f4e2-365610c0f819"
      },
      "source": [
        "!conda list"
      ],
      "execution_count": 15,
      "outputs": [
        {
          "output_type": "stream",
          "text": [
            "# packages in environment at /usr/local:\n",
            "#\n",
            "# Name                    Version                   Build  Channel\n",
            "_libgcc_mutex             0.1                        main  \n",
            "argon2-cffi               20.1.0           py37h27cfd23_1  \n",
            "asn1crypto                1.3.0                    py37_0  \n",
            "async_generator           1.10             py37h28b3542_0  \n",
            "attrs                     21.2.0             pyhd3eb1b0_0  \n",
            "backcall                  0.2.0              pyhd3eb1b0_0  \n",
            "blas                      1.0                         mkl  \n",
            "bleach                    3.3.0              pyhd3eb1b0_0  \n",
            "ca-certificates           2021.7.5             h06a4308_1  \n",
            "cached-property           1.5.2                      py_0  \n",
            "cantera                   2.5.1            py37hb93dfd8_0    cantera\n",
            "certifi                   2021.5.30        py37h06a4308_0  \n",
            "cffi                      1.14.0           py37h2e261b9_0  \n",
            "chardet                   3.0.4                 py37_1003  \n",
            "conda                     4.10.3           py37h06a4308_0  \n",
            "conda-package-handling    1.6.0            py37h7b6447c_0  \n",
            "cryptography              2.8              py37h1ba5d50_0  \n",
            "cycler                    0.10.0                   py37_0  \n",
            "dbus                      1.13.18              hb2f20db_0  \n",
            "decorator                 5.0.9              pyhd3eb1b0_0  \n",
            "defusedxml                0.7.1              pyhd3eb1b0_0  \n",
            "entrypoints               0.3                      py37_0  \n",
            "expat                     2.4.1                h2531618_2  \n",
            "fontconfig                2.13.0               h9420a91_0  \n",
            "freetype                  2.10.4               h5ab3b9f_0  \n",
            "glib                      2.63.1               h5a9c865_0  \n",
            "gst-plugins-base          1.14.0               hbbd80ab_1  \n",
            "gstreamer                 1.14.0               hb453b48_1  \n",
            "h5py                      3.2.1            py37h6c542dc_0  \n",
            "hdf5                      1.10.6               hb1b8bf9_0  \n",
            "icu                       58.2                 he6710b0_3  \n",
            "idna                      2.8                      py37_0  \n",
            "importlib-metadata        3.10.0           py37h06a4308_0  \n",
            "importlib_metadata        3.10.0               hd3eb1b0_0  \n",
            "intel-openmp              2021.2.0           h06a4308_610  \n",
            "ipykernel                 5.3.4            py37h5ca1d4c_0  \n",
            "ipython                   7.22.0           py37hb070fc8_0  \n",
            "ipython_genutils          0.2.0              pyhd3eb1b0_1  \n",
            "ipywidgets                7.6.3              pyhd3eb1b0_1  \n",
            "jedi                      0.17.0                   py37_0  \n",
            "jinja2                    3.0.1              pyhd3eb1b0_0  \n",
            "jpeg                      9b                   h024ee3a_2  \n",
            "jsonschema                3.2.0                      py_2  \n",
            "jupyter                   1.0.0                    py37_7  \n",
            "jupyter_client            6.1.12             pyhd3eb1b0_0  \n",
            "jupyter_console           6.4.0              pyhd3eb1b0_0  \n",
            "jupyter_core              4.7.1            py37h06a4308_0  \n",
            "jupyterlab_pygments       0.1.2                      py_0  \n",
            "jupyterlab_widgets        1.0.0              pyhd3eb1b0_1  \n",
            "kiwisolver                1.3.1            py37h2531618_0  \n",
            "lcms2                     2.12                 h3be6417_0  \n",
            "ld_impl_linux-64          2.33.1               h53a641e_7  \n",
            "libedit                   3.1.20181209         hc058e9b_0  \n",
            "libffi                    3.2.1                hd88cf55_4  \n",
            "libgcc-ng                 9.1.0                hdf63c60_0  \n",
            "libgfortran-ng            7.5.0               ha8ba4b0_17  \n",
            "libgfortran4              7.5.0               ha8ba4b0_17  \n",
            "libpng                    1.6.37               hbc83047_0  \n",
            "libsodium                 1.0.18               h7b6447c_0  \n",
            "libstdcxx-ng              9.1.0                hdf63c60_0  \n",
            "libtiff                   4.1.0                h2733197_0  \n",
            "libuuid                   1.0.3                h1bed415_2  \n",
            "libxcb                    1.14                 h7b6447c_0  \n",
            "libxml2                   2.9.9                hea5a465_1  \n",
            "markupsafe                2.0.1            py37h27cfd23_0  \n",
            "matplotlib                3.3.4            py37h06a4308_0  \n",
            "matplotlib-base           3.3.4            py37h62a2d02_0  \n",
            "mistune                   0.8.4           py37h14c3975_1001  \n",
            "mkl                       2021.2.0           h06a4308_296  \n",
            "mkl-service               2.3.0            py37h27cfd23_1  \n",
            "mkl_fft                   1.3.0            py37h42c9631_2  \n",
            "mkl_random                1.2.1            py37ha9443f7_2  \n",
            "nbclient                  0.5.3              pyhd3eb1b0_0  \n",
            "nbconvert                 6.1.0            py37h06a4308_0  \n",
            "nbformat                  5.1.3              pyhd3eb1b0_0  \n",
            "ncurses                   6.2                  he6710b0_0  \n",
            "nest-asyncio              1.5.1              pyhd3eb1b0_0  \n",
            "notebook                  6.4.0            py37h06a4308_0  \n",
            "numpy                     1.20.2           py37h2d18471_0  \n",
            "numpy-base                1.20.2           py37hfae3a4d_0  \n",
            "olefile                   0.46                     py37_0  \n",
            "openjpeg                  2.3.0                h05c96fa_1  \n",
            "openssl                   1.1.1k               h27cfd23_0  \n",
            "packaging                 21.0               pyhd3eb1b0_0  \n",
            "pandocfilters             1.4.3            py37h06a4308_1  \n",
            "parso                     0.8.2              pyhd3eb1b0_0  \n",
            "pcre                      8.45                 h295c915_0  \n",
            "pexpect                   4.8.0              pyhd3eb1b0_3  \n",
            "pickleshare               0.7.5           pyhd3eb1b0_1003  \n",
            "pillow                    8.3.1            py37h2c7a002_0  \n",
            "pip                       20.0.2                   py37_1  \n",
            "prometheus_client         0.11.0             pyhd3eb1b0_0  \n",
            "prompt-toolkit            3.0.17             pyh06a4308_0  \n",
            "prompt_toolkit            3.0.17               hd3eb1b0_0  \n",
            "ptyprocess                0.7.0              pyhd3eb1b0_2  \n",
            "pycosat                   0.6.3            py37h7b6447c_0  \n",
            "pycparser                 2.19                     py37_0  \n",
            "pygments                  2.9.0              pyhd3eb1b0_0  \n",
            "pyopenssl                 19.1.0                   py37_0  \n",
            "pyparsing                 2.4.7              pyhd3eb1b0_0  \n",
            "pyqt                      5.9.2            py37h05f1152_2  \n",
            "pyrsistent                0.17.3           py37h7b6447c_0  \n",
            "pysocks                   1.7.1                    py37_0  \n",
            "python                    3.7.6                h0371630_2  \n",
            "python-dateutil           2.8.1              pyhd3eb1b0_0  \n",
            "pyzmq                     20.0.0           py37h2531618_1  \n",
            "qt                        5.9.7                h5867ecd_1  \n",
            "qtconsole                 5.1.0              pyhd3eb1b0_0  \n",
            "qtpy                      1.9.0                      py_0  \n",
            "readline                  7.0                  h7b6447c_5  \n",
            "requests                  2.22.0                   py37_1  \n",
            "ruamel_yaml               0.15.87          py37h7b6447c_0  \n",
            "send2trash                1.5.0              pyhd3eb1b0_1  \n",
            "setuptools                45.2.0                   py37_0  \n",
            "sip                       4.19.8           py37hf484d3e_0  \n",
            "six                       1.14.0                   py37_0  \n",
            "sqlite                    3.31.1               h7b6447c_0  \n",
            "terminado                 0.9.4            py37h06a4308_0  \n",
            "testpath                  0.5.0              pyhd3eb1b0_0  \n",
            "tk                        8.6.8                hbc83047_0  \n",
            "tornado                   6.1              py37h27cfd23_0  \n",
            "tqdm                      4.42.1                     py_0  \n",
            "traitlets                 5.0.5              pyhd3eb1b0_0  \n",
            "typing_extensions         3.10.0.0           pyh06a4308_0  \n",
            "urllib3                   1.25.8                   py37_0  \n",
            "wcwidth                   0.2.5                      py_0  \n",
            "webencodings              0.5.1                    py37_1  \n",
            "wheel                     0.34.2                   py37_0  \n",
            "widgetsnbextension        3.5.1                    py37_0  \n",
            "xz                        5.2.4                h14c3975_4  \n",
            "yaml                      0.1.7                had09818_2  \n",
            "zeromq                    4.3.4                h2531618_0  \n",
            "zipp                      3.5.0              pyhd3eb1b0_0  \n",
            "zlib                      1.2.11               h7b6447c_3  \n",
            "zstd                      1.3.7                h0b5b093_0  \n"
          ],
          "name": "stdout"
        }
      ]
    },
    {
      "cell_type": "markdown",
      "metadata": {
        "id": "quRr48lnp8er"
      },
      "source": [
        "## Step4 Run Cantera Sample Code"
      ]
    },
    {
      "cell_type": "code",
      "metadata": {
        "id": "hyGZy6OQX7FG"
      },
      "source": [
        "import cantera as ct"
      ],
      "execution_count": 16,
      "outputs": []
    },
    {
      "cell_type": "code",
      "metadata": {
        "colab": {
          "base_uri": "https://localhost:8080/"
        },
        "id": "_LB9Nf1lYFb3",
        "outputId": "8ba5eec4-6a36-4f3a-97a4-4bfd3b36a4ad"
      },
      "source": [
        "gas1 = ct.Solution('gri30.yaml')\n",
        "gas1()"
      ],
      "execution_count": 17,
      "outputs": [
        {
          "output_type": "stream",
          "text": [
            "\n",
            "  gri30:\n",
            "\n",
            "       temperature   300 K\n",
            "          pressure   1.0133e+05 Pa\n",
            "           density   0.081894 kg/m^3\n",
            "  mean mol. weight   2.016 kg/kmol\n",
            "   phase of matter   gas\n",
            "\n",
            "                          1 kg             1 kmol     \n",
            "                     ---------------   ---------------\n",
            "          enthalpy             26469             53361  J\n",
            "   internal energy       -1.2108e+06        -2.441e+06  J\n",
            "           entropy             64910        1.3086e+05  J/K\n",
            "    Gibbs function       -1.9447e+07       -3.9204e+07  J\n",
            " heat capacity c_p             14311             28851  J/K\n",
            " heat capacity c_v             10187             20536  J/K\n",
            "\n",
            "                      mass frac. Y      mole frac. X     chem. pot. / RT\n",
            "                     ---------------   ---------------   ---------------\n",
            "                H2                 1                 1           -15.717\n",
            "     [  +52 minor]                 0                 0  \n",
            "\n"
          ],
          "name": "stdout"
        }
      ]
    },
    {
      "cell_type": "code",
      "metadata": {
        "colab": {
          "base_uri": "https://localhost:8080/"
        },
        "id": "1O87adw3YJWv",
        "outputId": "64f33217-723e-47fb-d16b-d23c03224b41"
      },
      "source": [
        "import cantera.examples\n",
        "print(cantera.examples.__path__)"
      ],
      "execution_count": 18,
      "outputs": [
        {
          "output_type": "stream",
          "text": [
            "['/usr/local/lib/python3.7/site-packages/cantera/examples']\n"
          ],
          "name": "stdout"
        }
      ]
    }
  ]
}
