{
  "nbformat": 4,
  "nbformat_minor": 0,
  "metadata": {
    "colab": {
      "name": "[20210709]_Cantera(L2)_Working With Mechanism Files_&_Chemical Equilibrium_&_Chemical Kinetics.ipynb",
      "provenance": [],
      "authorship_tag": "ABX9TyO2mZLjV1pfJZ63uwH+xTmx",
      "include_colab_link": true
    },
    "kernelspec": {
      "name": "python3",
      "display_name": "Python 3"
    },
    "language_info": {
      "name": "python"
    }
  },
  "cells": [
    {
      "cell_type": "markdown",
      "metadata": {
        "id": "view-in-github",
        "colab_type": "text"
      },
      "source": [
        "<a href=\"https://colab.research.google.com/github/BingHungLee/EDC_Cracking_Furnace_Design/blob/main/%5B20210709%5D_Cantera(L2)_Working_With_Mechanism_Files_%26_Chemical_Equilibrium_%26_Chemical_Kinetics.ipynb\" target=\"_parent\"><img src=\"https://colab.research.google.com/assets/colab-badge.svg\" alt=\"Open In Colab\"/></a>"
      ]
    },
    {
      "cell_type": "code",
      "metadata": {
        "colab": {
          "base_uri": "https://localhost:8080/"
        },
        "id": "doJsGw1c8Qsr",
        "outputId": "cabfcb9d-053c-4427-b9fd-897d95e8b2ea"
      },
      "source": [
        "################################################################################\n",
        "# INSTALL CONDA AND CANTERA ON GOOGLE COLAB\n",
        "################################################################################\n",
        "! wget https://repo.anaconda.com/miniconda/Miniconda3-py37_4.8.2-Linux-x86_64.sh\n",
        "! chmod +x Miniconda3-py37_4.8.2-Linux-x86_64.sh\n",
        "! bash ./Miniconda3-py37_4.8.2-Linux-x86_64.sh -b -f -p /usr/local\n",
        "import sys\n",
        "sys.path.append('/usr/local/lib/python3.7/site-packages/')\n",
        "\n",
        "!conda install --channel cantera cantera ipython matplotlib jupyter"
      ],
      "execution_count": 1,
      "outputs": [
        {
          "output_type": "stream",
          "text": [
            "--2021-07-09 06:27:57--  https://repo.anaconda.com/miniconda/Miniconda3-py37_4.8.2-Linux-x86_64.sh\n",
            "Resolving repo.anaconda.com (repo.anaconda.com)... 104.16.130.3, 104.16.131.3, 2606:4700::6810:8203, ...\n",
            "Connecting to repo.anaconda.com (repo.anaconda.com)|104.16.130.3|:443... connected.\n",
            "HTTP request sent, awaiting response... 200 OK\n",
            "Length: 85055499 (81M) [application/x-sh]\n",
            "Saving to: ‘Miniconda3-py37_4.8.2-Linux-x86_64.sh’\n",
            "\n",
            "Miniconda3-py37_4.8 100%[===================>]  81.12M   188MB/s    in 0.4s    \n",
            "\n",
            "2021-07-09 06:27:57 (188 MB/s) - ‘Miniconda3-py37_4.8.2-Linux-x86_64.sh’ saved [85055499/85055499]\n",
            "\n",
            "PREFIX=/usr/local\n",
            "Unpacking payload ...\n",
            "Collecting package metadata (current_repodata.json): - \b\b\\ \b\b| \b\bdone\n",
            "Solving environment: - \b\b\\ \b\bdone\n",
            "\n",
            "## Package Plan ##\n",
            "\n",
            "  environment location: /usr/local\n",
            "\n",
            "  added / updated specs:\n",
            "    - _libgcc_mutex==0.1=main\n",
            "    - asn1crypto==1.3.0=py37_0\n",
            "    - ca-certificates==2020.1.1=0\n",
            "    - certifi==2019.11.28=py37_0\n",
            "    - cffi==1.14.0=py37h2e261b9_0\n",
            "    - chardet==3.0.4=py37_1003\n",
            "    - conda-package-handling==1.6.0=py37h7b6447c_0\n",
            "    - conda==4.8.2=py37_0\n",
            "    - cryptography==2.8=py37h1ba5d50_0\n",
            "    - idna==2.8=py37_0\n",
            "    - ld_impl_linux-64==2.33.1=h53a641e_7\n",
            "    - libedit==3.1.20181209=hc058e9b_0\n",
            "    - libffi==3.2.1=hd88cf55_4\n",
            "    - libgcc-ng==9.1.0=hdf63c60_0\n",
            "    - libstdcxx-ng==9.1.0=hdf63c60_0\n",
            "    - ncurses==6.2=he6710b0_0\n",
            "    - openssl==1.1.1d=h7b6447c_4\n",
            "    - pip==20.0.2=py37_1\n",
            "    - pycosat==0.6.3=py37h7b6447c_0\n",
            "    - pycparser==2.19=py37_0\n",
            "    - pyopenssl==19.1.0=py37_0\n",
            "    - pysocks==1.7.1=py37_0\n",
            "    - python==3.7.6=h0371630_2\n",
            "    - readline==7.0=h7b6447c_5\n",
            "    - requests==2.22.0=py37_1\n",
            "    - ruamel_yaml==0.15.87=py37h7b6447c_0\n",
            "    - setuptools==45.2.0=py37_0\n",
            "    - six==1.14.0=py37_0\n",
            "    - sqlite==3.31.1=h7b6447c_0\n",
            "    - tk==8.6.8=hbc83047_0\n",
            "    - tqdm==4.42.1=py_0\n",
            "    - urllib3==1.25.8=py37_0\n",
            "    - wheel==0.34.2=py37_0\n",
            "    - xz==5.2.4=h14c3975_4\n",
            "    - yaml==0.1.7=had09818_2\n",
            "    - zlib==1.2.11=h7b6447c_3\n",
            "\n",
            "\n",
            "The following NEW packages will be INSTALLED:\n",
            "\n",
            "  _libgcc_mutex      pkgs/main/linux-64::_libgcc_mutex-0.1-main\n",
            "  asn1crypto         pkgs/main/linux-64::asn1crypto-1.3.0-py37_0\n",
            "  ca-certificates    pkgs/main/linux-64::ca-certificates-2020.1.1-0\n",
            "  certifi            pkgs/main/linux-64::certifi-2019.11.28-py37_0\n",
            "  cffi               pkgs/main/linux-64::cffi-1.14.0-py37h2e261b9_0\n",
            "  chardet            pkgs/main/linux-64::chardet-3.0.4-py37_1003\n",
            "  conda              pkgs/main/linux-64::conda-4.8.2-py37_0\n",
            "  conda-package-han~ pkgs/main/linux-64::conda-package-handling-1.6.0-py37h7b6447c_0\n",
            "  cryptography       pkgs/main/linux-64::cryptography-2.8-py37h1ba5d50_0\n",
            "  idna               pkgs/main/linux-64::idna-2.8-py37_0\n",
            "  ld_impl_linux-64   pkgs/main/linux-64::ld_impl_linux-64-2.33.1-h53a641e_7\n",
            "  libedit            pkgs/main/linux-64::libedit-3.1.20181209-hc058e9b_0\n",
            "  libffi             pkgs/main/linux-64::libffi-3.2.1-hd88cf55_4\n",
            "  libgcc-ng          pkgs/main/linux-64::libgcc-ng-9.1.0-hdf63c60_0\n",
            "  libstdcxx-ng       pkgs/main/linux-64::libstdcxx-ng-9.1.0-hdf63c60_0\n",
            "  ncurses            pkgs/main/linux-64::ncurses-6.2-he6710b0_0\n",
            "  openssl            pkgs/main/linux-64::openssl-1.1.1d-h7b6447c_4\n",
            "  pip                pkgs/main/linux-64::pip-20.0.2-py37_1\n",
            "  pycosat            pkgs/main/linux-64::pycosat-0.6.3-py37h7b6447c_0\n",
            "  pycparser          pkgs/main/linux-64::pycparser-2.19-py37_0\n",
            "  pyopenssl          pkgs/main/linux-64::pyopenssl-19.1.0-py37_0\n",
            "  pysocks            pkgs/main/linux-64::pysocks-1.7.1-py37_0\n",
            "  python             pkgs/main/linux-64::python-3.7.6-h0371630_2\n",
            "  readline           pkgs/main/linux-64::readline-7.0-h7b6447c_5\n",
            "  requests           pkgs/main/linux-64::requests-2.22.0-py37_1\n",
            "  ruamel_yaml        pkgs/main/linux-64::ruamel_yaml-0.15.87-py37h7b6447c_0\n",
            "  setuptools         pkgs/main/linux-64::setuptools-45.2.0-py37_0\n",
            "  six                pkgs/main/linux-64::six-1.14.0-py37_0\n",
            "  sqlite             pkgs/main/linux-64::sqlite-3.31.1-h7b6447c_0\n",
            "  tk                 pkgs/main/linux-64::tk-8.6.8-hbc83047_0\n",
            "  tqdm               pkgs/main/noarch::tqdm-4.42.1-py_0\n",
            "  urllib3            pkgs/main/linux-64::urllib3-1.25.8-py37_0\n",
            "  wheel              pkgs/main/linux-64::wheel-0.34.2-py37_0\n",
            "  xz                 pkgs/main/linux-64::xz-5.2.4-h14c3975_4\n",
            "  yaml               pkgs/main/linux-64::yaml-0.1.7-had09818_2\n",
            "  zlib               pkgs/main/linux-64::zlib-1.2.11-h7b6447c_3\n",
            "\n",
            "\n",
            "Preparing transaction: / \b\b- \b\b\\ \b\b| \b\bdone\n",
            "Executing transaction: - \b\b\\ \b\b| \b\b/ \b\b- \b\b\\ \b\b| \b\b/ \b\b- \b\b\\ \b\b| \b\b/ \b\b- \b\b\\ \b\b| \b\b/ \b\bdone\n",
            "installation finished.\n",
            "WARNING:\n",
            "    You currently have a PYTHONPATH environment variable set. This may cause\n",
            "    unexpected behavior when running the Python interpreter in Miniconda3.\n",
            "    For best results, please verify that your PYTHONPATH only points to\n",
            "    directories of packages that are compatible with the Python interpreter\n",
            "    in Miniconda3: /usr/local\n",
            "Collecting package metadata (current_repodata.json): - \b\b\\ \b\b| \b\b/ \b\b- \b\b\\ \b\b| \b\b/ \b\b- \b\b\\ \b\b| \b\b/ \b\b- \b\b\\ \b\b| \b\b/ \b\b- \b\b\\ \b\b| \b\b/ \b\b- \b\b\\ \b\bdone\n",
            "Solving environment: / \b\b- \b\b\\ \b\b| \b\b/ \b\b- \b\b\\ \b\b| \b\b/ \b\b- \b\b\\ \b\b| \b\b/ \b\b- \b\b\\ \b\b| \b\b/ \b\b- \b\b\\ \b\b| \b\b/ \b\b- \b\bfailed with initial frozen solve. Retrying with flexible solve.\n",
            "Solving environment: | \b\b/ \b\b- \b\b\\ \b\b| \b\b/ \b\b- \b\b\\ \b\b| \b\b/ \b\b- \b\b\\ \b\b| \b\b/ \b\b- \b\b\\ \b\b| \b\b/ \b\b- \b\b\\ \b\b| \b\b/ \b\bfailed with repodata from current_repodata.json, will retry with next repodata source.\n",
            "Collecting package metadata (repodata.json): \\ \b\b| \b\b/ \b\b- \b\b\\ \b\b| \b\b/ \b\b- \b\b\\ \b\b| \b\b/ \b\b- \b\b\\ \b\b| \b\b/ \b\b- \b\b\\ \b\b| \b\b/ \b\b- \b\b\\ \b\b| \b\b/ \b\b- \b\b\\ \b\b| \b\b/ \b\b- \b\b\\ \b\b| \b\b/ \b\b- \b\b\\ \b\b| \b\b/ \b\b- \b\b\\ \b\b| \b\b/ \b\b- \b\b\\ \b\b| \b\b/ \b\b- \b\b\\ \b\b| \b\b/ \b\b- \b\b\\ \b\b| \b\b/ \b\b- \b\bdone\n",
            "Solving environment: | \b\b/ \b\b- \b\b\\ \b\b| \b\b/ \b\b- \b\b\\ \b\b| \b\b/ \b\b- \b\b\\ \b\b| \b\b/ \b\b- \b\b\\ \b\b| \b\b/ \b\b- \b\b\\ \b\b| \b\b/ \b\b- \b\b\\ \b\b| \b\b/ \b\b- \b\b\\ \b\b| \b\b/ \b\b- \b\b\\ \b\b| \b\b/ \b\b- \b\b\\ \b\b| \b\b/ \b\b- \b\b\\ \b\b| \b\b/ \b\b- \b\b\\ \b\b| \b\b/ \b\b- \b\b\\ \b\b| \b\b/ \b\b- \b\b\\ \b\b| \b\b/ \b\b- \b\b\\ \b\b| \b\b/ \b\b- \b\b\\ \b\b| \b\b/ \b\b- \b\b\\ \b\b| \b\b/ \b\b- \b\b\\ \b\b| \b\b/ \b\b- \b\b\\ \b\b| \b\b/ \b\b- \b\b\\ \b\b| \b\b/ \b\b- \b\b\\ \b\b| \b\b/ \b\b- \b\b\\ \b\b| \b\b/ \b\b- \b\b\\ \b\b| \b\b/ \b\b- \b\b\\ \b\b| \b\b/ \b\b- \b\b\\ \b\b| \b\b/ \b\b- \b\b\\ \b\b| \b\b/ \b\b- \b\b\\ \b\b| \b\b/ \b\b- \b\b\\ \b\b| \b\b/ \b\b- \b\b\\ \b\b| \b\b/ \b\b- \b\b\\ \b\b| \b\b/ \b\b- \b\b\\ \b\b| \b\b/ \b\b- \b\b\\ \b\b| \b\b/ \b\b- \b\b\\ \b\b| \b\b/ \b\b- \b\b\\ \b\b| \b\b/ \b\b- \b\b\\ \b\b| \b\bdone\n",
            "\n",
            "## Package Plan ##\n",
            "\n",
            "  environment location: /usr/local\n",
            "\n",
            "  added / updated specs:\n",
            "    - cantera\n",
            "    - ipython\n",
            "    - jupyter\n",
            "    - matplotlib\n",
            "\n",
            "\n",
            "The following packages will be downloaded:\n",
            "\n",
            "    package                    |            build\n",
            "    ---------------------------|-----------------\n",
            "    argon2-cffi-20.1.0         |   py37h27cfd23_1          46 KB\n",
            "    async_generator-1.10       |   py37h28b3542_0          39 KB\n",
            "    attrs-21.2.0               |     pyhd3eb1b0_0          46 KB\n",
            "    backcall-0.2.0             |     pyhd3eb1b0_0          13 KB\n",
            "    blas-1.0                   |              mkl           6 KB\n",
            "    bleach-3.3.0               |     pyhd3eb1b0_0         113 KB\n",
            "    ca-certificates-2021.7.5   |       h06a4308_1         113 KB\n",
            "    cached-property-1.5.2      |             py_0          11 KB\n",
            "    cantera-2.5.1              |   py37hb93dfd8_0         3.7 MB  cantera\n",
            "    certifi-2021.5.30          |   py37h06a4308_0         139 KB\n",
            "    conda-4.10.3               |   py37h06a4308_0         2.9 MB\n",
            "    cycler-0.10.0              |           py37_0          13 KB\n",
            "    dbus-1.13.18               |       hb2f20db_0         504 KB\n",
            "    decorator-5.0.9            |     pyhd3eb1b0_0          12 KB\n",
            "    defusedxml-0.7.1           |     pyhd3eb1b0_0          23 KB\n",
            "    entrypoints-0.3            |           py37_0          12 KB\n",
            "    expat-2.4.1                |       h2531618_2         168 KB\n",
            "    fontconfig-2.13.0          |       h9420a91_0         227 KB\n",
            "    freetype-2.10.4            |       h5ab3b9f_0         596 KB\n",
            "    glib-2.63.1                |       h5a9c865_0         2.9 MB\n",
            "    gst-plugins-base-1.14.0    |       hbbd80ab_1         4.8 MB\n",
            "    gstreamer-1.14.0           |       hb453b48_1         3.1 MB\n",
            "    h5py-3.2.1                 |   py37h6c542dc_0         1.0 MB\n",
            "    hdf5-1.10.6                |       hb1b8bf9_0         3.7 MB\n",
            "    icu-58.2                   |       he6710b0_3        10.5 MB\n",
            "    importlib-metadata-3.10.0  |   py37h06a4308_0          33 KB\n",
            "    importlib_metadata-3.10.0  |       hd3eb1b0_0          11 KB\n",
            "    intel-openmp-2021.2.0      |     h06a4308_610         1.3 MB\n",
            "    ipykernel-5.3.4            |   py37h5ca1d4c_0         179 KB\n",
            "    ipython-7.22.0             |   py37hb070fc8_0         992 KB\n",
            "    ipython_genutils-0.2.0     |     pyhd3eb1b0_1          27 KB\n",
            "    ipywidgets-7.6.3           |     pyhd3eb1b0_1         105 KB\n",
            "    jedi-0.17.0                |           py37_0         775 KB\n",
            "    jinja2-3.0.1               |     pyhd3eb1b0_0         110 KB\n",
            "    jpeg-9b                    |       h024ee3a_2         214 KB\n",
            "    jsonschema-3.2.0           |             py_2          47 KB\n",
            "    jupyter-1.0.0              |           py37_7           6 KB\n",
            "    jupyter_client-6.1.12      |     pyhd3eb1b0_0          88 KB\n",
            "    jupyter_console-6.4.0      |     pyhd3eb1b0_0          23 KB\n",
            "    jupyter_core-4.7.1         |   py37h06a4308_0          68 KB\n",
            "    jupyterlab_pygments-0.1.2  |             py_0           8 KB\n",
            "    jupyterlab_widgets-1.0.0   |     pyhd3eb1b0_1         109 KB\n",
            "    kiwisolver-1.3.1           |   py37h2531618_0          80 KB\n",
            "    lcms2-2.12                 |       h3be6417_0         312 KB\n",
            "    libgfortran-ng-7.5.0       |      ha8ba4b0_17          22 KB\n",
            "    libgfortran4-7.5.0         |      ha8ba4b0_17         995 KB\n",
            "    libpng-1.6.37              |       hbc83047_0         278 KB\n",
            "    libsodium-1.0.18           |       h7b6447c_0         244 KB\n",
            "    libtiff-4.1.0              |       h2733197_0         447 KB\n",
            "    libuuid-1.0.3              |       h1bed415_2          15 KB\n",
            "    libxcb-1.14                |       h7b6447c_0         505 KB\n",
            "    libxml2-2.9.9              |       hea5a465_1         1.6 MB\n",
            "    markupsafe-2.0.1           |   py37h27cfd23_0          21 KB\n",
            "    matplotlib-3.3.4           |   py37h06a4308_0          26 KB\n",
            "    matplotlib-base-3.3.4      |   py37h62a2d02_0         5.1 MB\n",
            "    mistune-0.8.4              |py37h14c3975_1001          54 KB\n",
            "    mkl-2021.2.0               |     h06a4308_296       144.3 MB\n",
            "    mkl-service-2.3.0          |   py37h27cfd23_1          55 KB\n",
            "    mkl_fft-1.3.0              |   py37h42c9631_2         170 KB\n",
            "    mkl_random-1.2.1           |   py37ha9443f7_2         287 KB\n",
            "    nbclient-0.5.3             |     pyhd3eb1b0_0          62 KB\n",
            "    nbconvert-6.1.0            |   py37h06a4308_0         483 KB\n",
            "    nbformat-5.1.3             |     pyhd3eb1b0_0          44 KB\n",
            "    nest-asyncio-1.5.1         |     pyhd3eb1b0_0          10 KB\n",
            "    notebook-6.4.0             |   py37h06a4308_0         4.1 MB\n",
            "    numpy-1.20.2               |   py37h2d18471_0          23 KB\n",
            "    numpy-base-1.20.2          |   py37hfae3a4d_0         4.5 MB\n",
            "    olefile-0.46               |           py37_0          50 KB\n",
            "    openjpeg-2.3.0             |       h05c96fa_1         301 KB\n",
            "    openssl-1.1.1k             |       h27cfd23_0         2.5 MB\n",
            "    packaging-21.0             |     pyhd3eb1b0_0          36 KB\n",
            "    pandocfilters-1.4.3        |   py37h06a4308_1          14 KB\n",
            "    parso-0.8.2                |     pyhd3eb1b0_0          69 KB\n",
            "    pcre-8.45                  |       h295c915_0         207 KB\n",
            "    pexpect-4.8.0              |     pyhd3eb1b0_3          53 KB\n",
            "    pickleshare-0.7.5          |  pyhd3eb1b0_1003          13 KB\n",
            "    pillow-8.3.1               |   py37h2c7a002_0         635 KB\n",
            "    prometheus_client-0.11.0   |     pyhd3eb1b0_0          47 KB\n",
            "    prompt-toolkit-3.0.17      |     pyh06a4308_0         256 KB\n",
            "    prompt_toolkit-3.0.17      |       hd3eb1b0_0          12 KB\n",
            "    ptyprocess-0.7.0           |     pyhd3eb1b0_2          17 KB\n",
            "    pygments-2.9.0             |     pyhd3eb1b0_0         721 KB\n",
            "    pyparsing-2.4.7            |     pyhd3eb1b0_0          59 KB\n",
            "    pyqt-5.9.2                 |   py37h05f1152_2         4.5 MB\n",
            "    pyrsistent-0.17.3          |   py37h7b6447c_0          89 KB\n",
            "    python-dateutil-2.8.1      |     pyhd3eb1b0_0         221 KB\n",
            "    pyzmq-20.0.0               |   py37h2531618_1         439 KB\n",
            "    qt-5.9.7                   |       h5867ecd_1        68.5 MB\n",
            "    qtconsole-5.1.0            |     pyhd3eb1b0_0          98 KB\n",
            "    qtpy-1.9.0                 |             py_0          38 KB\n",
            "    send2trash-1.5.0           |     pyhd3eb1b0_1          14 KB\n",
            "    sip-4.19.8                 |   py37hf484d3e_0         274 KB\n",
            "    terminado-0.9.4            |   py37h06a4308_0          25 KB\n",
            "    testpath-0.5.0             |     pyhd3eb1b0_0          81 KB\n",
            "    tornado-6.1                |   py37h27cfd23_0         589 KB\n",
            "    traitlets-5.0.5            |     pyhd3eb1b0_0          81 KB\n",
            "    typing_extensions-3.10.0.0 |     pyh06a4308_0          27 KB\n",
            "    wcwidth-0.2.5              |             py_0          29 KB\n",
            "    webencodings-0.5.1         |           py37_1          19 KB\n",
            "    widgetsnbextension-3.5.1   |           py37_0         862 KB\n",
            "    zeromq-4.3.4               |       h2531618_0         331 KB\n",
            "    zipp-3.5.0                 |     pyhd3eb1b0_0          13 KB\n",
            "    zstd-1.3.7                 |       h0b5b093_0         401 KB\n",
            "    ------------------------------------------------------------\n",
            "                                           Total:       283.6 MB\n",
            "\n",
            "The following NEW packages will be INSTALLED:\n",
            "\n",
            "  argon2-cffi        pkgs/main/linux-64::argon2-cffi-20.1.0-py37h27cfd23_1\n",
            "  async_generator    pkgs/main/linux-64::async_generator-1.10-py37h28b3542_0\n",
            "  attrs              pkgs/main/noarch::attrs-21.2.0-pyhd3eb1b0_0\n",
            "  backcall           pkgs/main/noarch::backcall-0.2.0-pyhd3eb1b0_0\n",
            "  blas               pkgs/main/linux-64::blas-1.0-mkl\n",
            "  bleach             pkgs/main/noarch::bleach-3.3.0-pyhd3eb1b0_0\n",
            "  cached-property    pkgs/main/noarch::cached-property-1.5.2-py_0\n",
            "  cantera            cantera/linux-64::cantera-2.5.1-py37hb93dfd8_0\n",
            "  cycler             pkgs/main/linux-64::cycler-0.10.0-py37_0\n",
            "  dbus               pkgs/main/linux-64::dbus-1.13.18-hb2f20db_0\n",
            "  decorator          pkgs/main/noarch::decorator-5.0.9-pyhd3eb1b0_0\n",
            "  defusedxml         pkgs/main/noarch::defusedxml-0.7.1-pyhd3eb1b0_0\n",
            "  entrypoints        pkgs/main/linux-64::entrypoints-0.3-py37_0\n",
            "  expat              pkgs/main/linux-64::expat-2.4.1-h2531618_2\n",
            "  fontconfig         pkgs/main/linux-64::fontconfig-2.13.0-h9420a91_0\n",
            "  freetype           pkgs/main/linux-64::freetype-2.10.4-h5ab3b9f_0\n",
            "  glib               pkgs/main/linux-64::glib-2.63.1-h5a9c865_0\n",
            "  gst-plugins-base   pkgs/main/linux-64::gst-plugins-base-1.14.0-hbbd80ab_1\n",
            "  gstreamer          pkgs/main/linux-64::gstreamer-1.14.0-hb453b48_1\n",
            "  h5py               pkgs/main/linux-64::h5py-3.2.1-py37h6c542dc_0\n",
            "  hdf5               pkgs/main/linux-64::hdf5-1.10.6-hb1b8bf9_0\n",
            "  icu                pkgs/main/linux-64::icu-58.2-he6710b0_3\n",
            "  importlib-metadata pkgs/main/linux-64::importlib-metadata-3.10.0-py37h06a4308_0\n",
            "  importlib_metadata pkgs/main/noarch::importlib_metadata-3.10.0-hd3eb1b0_0\n",
            "  intel-openmp       pkgs/main/linux-64::intel-openmp-2021.2.0-h06a4308_610\n",
            "  ipykernel          pkgs/main/linux-64::ipykernel-5.3.4-py37h5ca1d4c_0\n",
            "  ipython            pkgs/main/linux-64::ipython-7.22.0-py37hb070fc8_0\n",
            "  ipython_genutils   pkgs/main/noarch::ipython_genutils-0.2.0-pyhd3eb1b0_1\n",
            "  ipywidgets         pkgs/main/noarch::ipywidgets-7.6.3-pyhd3eb1b0_1\n",
            "  jedi               pkgs/main/linux-64::jedi-0.17.0-py37_0\n",
            "  jinja2             pkgs/main/noarch::jinja2-3.0.1-pyhd3eb1b0_0\n",
            "  jpeg               pkgs/main/linux-64::jpeg-9b-h024ee3a_2\n",
            "  jsonschema         pkgs/main/noarch::jsonschema-3.2.0-py_2\n",
            "  jupyter            pkgs/main/linux-64::jupyter-1.0.0-py37_7\n",
            "  jupyter_client     pkgs/main/noarch::jupyter_client-6.1.12-pyhd3eb1b0_0\n",
            "  jupyter_console    pkgs/main/noarch::jupyter_console-6.4.0-pyhd3eb1b0_0\n",
            "  jupyter_core       pkgs/main/linux-64::jupyter_core-4.7.1-py37h06a4308_0\n",
            "  jupyterlab_pygmen~ pkgs/main/noarch::jupyterlab_pygments-0.1.2-py_0\n",
            "  jupyterlab_widgets pkgs/main/noarch::jupyterlab_widgets-1.0.0-pyhd3eb1b0_1\n",
            "  kiwisolver         pkgs/main/linux-64::kiwisolver-1.3.1-py37h2531618_0\n",
            "  lcms2              pkgs/main/linux-64::lcms2-2.12-h3be6417_0\n",
            "  libgfortran-ng     pkgs/main/linux-64::libgfortran-ng-7.5.0-ha8ba4b0_17\n",
            "  libgfortran4       pkgs/main/linux-64::libgfortran4-7.5.0-ha8ba4b0_17\n",
            "  libpng             pkgs/main/linux-64::libpng-1.6.37-hbc83047_0\n",
            "  libsodium          pkgs/main/linux-64::libsodium-1.0.18-h7b6447c_0\n",
            "  libtiff            pkgs/main/linux-64::libtiff-4.1.0-h2733197_0\n",
            "  libuuid            pkgs/main/linux-64::libuuid-1.0.3-h1bed415_2\n",
            "  libxcb             pkgs/main/linux-64::libxcb-1.14-h7b6447c_0\n",
            "  libxml2            pkgs/main/linux-64::libxml2-2.9.9-hea5a465_1\n",
            "  markupsafe         pkgs/main/linux-64::markupsafe-2.0.1-py37h27cfd23_0\n",
            "  matplotlib         pkgs/main/linux-64::matplotlib-3.3.4-py37h06a4308_0\n",
            "  matplotlib-base    pkgs/main/linux-64::matplotlib-base-3.3.4-py37h62a2d02_0\n",
            "  mistune            pkgs/main/linux-64::mistune-0.8.4-py37h14c3975_1001\n",
            "  mkl                pkgs/main/linux-64::mkl-2021.2.0-h06a4308_296\n",
            "  mkl-service        pkgs/main/linux-64::mkl-service-2.3.0-py37h27cfd23_1\n",
            "  mkl_fft            pkgs/main/linux-64::mkl_fft-1.3.0-py37h42c9631_2\n",
            "  mkl_random         pkgs/main/linux-64::mkl_random-1.2.1-py37ha9443f7_2\n",
            "  nbclient           pkgs/main/noarch::nbclient-0.5.3-pyhd3eb1b0_0\n",
            "  nbconvert          pkgs/main/linux-64::nbconvert-6.1.0-py37h06a4308_0\n",
            "  nbformat           pkgs/main/noarch::nbformat-5.1.3-pyhd3eb1b0_0\n",
            "  nest-asyncio       pkgs/main/noarch::nest-asyncio-1.5.1-pyhd3eb1b0_0\n",
            "  notebook           pkgs/main/linux-64::notebook-6.4.0-py37h06a4308_0\n",
            "  numpy              pkgs/main/linux-64::numpy-1.20.2-py37h2d18471_0\n",
            "  numpy-base         pkgs/main/linux-64::numpy-base-1.20.2-py37hfae3a4d_0\n",
            "  olefile            pkgs/main/linux-64::olefile-0.46-py37_0\n",
            "  openjpeg           pkgs/main/linux-64::openjpeg-2.3.0-h05c96fa_1\n",
            "  packaging          pkgs/main/noarch::packaging-21.0-pyhd3eb1b0_0\n",
            "  pandocfilters      pkgs/main/linux-64::pandocfilters-1.4.3-py37h06a4308_1\n",
            "  parso              pkgs/main/noarch::parso-0.8.2-pyhd3eb1b0_0\n",
            "  pcre               pkgs/main/linux-64::pcre-8.45-h295c915_0\n",
            "  pexpect            pkgs/main/noarch::pexpect-4.8.0-pyhd3eb1b0_3\n",
            "  pickleshare        pkgs/main/noarch::pickleshare-0.7.5-pyhd3eb1b0_1003\n",
            "  pillow             pkgs/main/linux-64::pillow-8.3.1-py37h2c7a002_0\n",
            "  prometheus_client  pkgs/main/noarch::prometheus_client-0.11.0-pyhd3eb1b0_0\n",
            "  prompt-toolkit     pkgs/main/noarch::prompt-toolkit-3.0.17-pyh06a4308_0\n",
            "  prompt_toolkit     pkgs/main/noarch::prompt_toolkit-3.0.17-hd3eb1b0_0\n",
            "  ptyprocess         pkgs/main/noarch::ptyprocess-0.7.0-pyhd3eb1b0_2\n",
            "  pygments           pkgs/main/noarch::pygments-2.9.0-pyhd3eb1b0_0\n",
            "  pyparsing          pkgs/main/noarch::pyparsing-2.4.7-pyhd3eb1b0_0\n",
            "  pyqt               pkgs/main/linux-64::pyqt-5.9.2-py37h05f1152_2\n",
            "  pyrsistent         pkgs/main/linux-64::pyrsistent-0.17.3-py37h7b6447c_0\n",
            "  python-dateutil    pkgs/main/noarch::python-dateutil-2.8.1-pyhd3eb1b0_0\n",
            "  pyzmq              pkgs/main/linux-64::pyzmq-20.0.0-py37h2531618_1\n",
            "  qt                 pkgs/main/linux-64::qt-5.9.7-h5867ecd_1\n",
            "  qtconsole          pkgs/main/noarch::qtconsole-5.1.0-pyhd3eb1b0_0\n",
            "  qtpy               pkgs/main/noarch::qtpy-1.9.0-py_0\n",
            "  send2trash         pkgs/main/noarch::send2trash-1.5.0-pyhd3eb1b0_1\n",
            "  sip                pkgs/main/linux-64::sip-4.19.8-py37hf484d3e_0\n",
            "  terminado          pkgs/main/linux-64::terminado-0.9.4-py37h06a4308_0\n",
            "  testpath           pkgs/main/noarch::testpath-0.5.0-pyhd3eb1b0_0\n",
            "  tornado            pkgs/main/linux-64::tornado-6.1-py37h27cfd23_0\n",
            "  traitlets          pkgs/main/noarch::traitlets-5.0.5-pyhd3eb1b0_0\n",
            "  typing_extensions  pkgs/main/noarch::typing_extensions-3.10.0.0-pyh06a4308_0\n",
            "  wcwidth            pkgs/main/noarch::wcwidth-0.2.5-py_0\n",
            "  webencodings       pkgs/main/linux-64::webencodings-0.5.1-py37_1\n",
            "  widgetsnbextension pkgs/main/linux-64::widgetsnbextension-3.5.1-py37_0\n",
            "  zeromq             pkgs/main/linux-64::zeromq-4.3.4-h2531618_0\n",
            "  zipp               pkgs/main/noarch::zipp-3.5.0-pyhd3eb1b0_0\n",
            "  zstd               pkgs/main/linux-64::zstd-1.3.7-h0b5b093_0\n",
            "\n",
            "The following packages will be UPDATED:\n",
            "\n",
            "  ca-certificates                                2020.1.1-0 --> 2021.7.5-h06a4308_1\n",
            "  certifi                                 2019.11.28-py37_0 --> 2021.5.30-py37h06a4308_0\n",
            "  conda                                        4.8.2-py37_0 --> 4.10.3-py37h06a4308_0\n",
            "  openssl                                 1.1.1d-h7b6447c_4 --> 1.1.1k-h27cfd23_0\n",
            "\n",
            "\n",
            "Proceed ([y]/n)? y\n",
            "\n",
            "\n",
            "Downloading and Extracting Packages\n",
            "lcms2-2.12           | 312 KB    | : 100% 1.0/1 [00:00<00:00,  8.41it/s]\n",
            "mkl_random-1.2.1     | 287 KB    | : 100% 1.0/1 [00:00<00:00, 14.86it/s]\n",
            "jupyterlab_widgets-1 | 109 KB    | : 100% 1.0/1 [00:00<00:00, 12.80it/s]\n",
            "qt-5.9.7             | 68.5 MB   | : 100% 1.0/1 [00:03<00:00,  6.42s/it]              \n",
            "glib-2.63.1          | 2.9 MB    | : 100% 1.0/1 [00:00<00:00,  5.13it/s]\n",
            "prompt_toolkit-3.0.1 | 12 KB     | : 100% 1.0/1 [00:00<00:00, 16.06it/s]\n",
            "pygments-2.9.0       | 721 KB    | : 100% 1.0/1 [00:00<00:00, 10.05it/s]\n",
            "pyparsing-2.4.7      | 59 KB     | : 100% 1.0/1 [00:00<00:00, 24.91it/s]\n",
            "jupyter_console-6.4. | 23 KB     | : 100% 1.0/1 [00:00<00:00, 13.34it/s]\n",
            "kiwisolver-1.3.1     | 80 KB     | : 100% 1.0/1 [00:00<00:00, 16.03it/s]\n",
            "terminado-0.9.4      | 25 KB     | : 100% 1.0/1 [00:00<00:00, 15.05it/s]\n",
            "argon2-cffi-20.1.0   | 46 KB     | : 100% 1.0/1 [00:00<00:00, 14.21it/s]\n",
            "certifi-2021.5.30    | 139 KB    | : 100% 1.0/1 [00:00<00:00, 14.83it/s]\n",
            "nest-asyncio-1.5.1   | 10 KB     | : 100% 1.0/1 [00:00<00:00, 15.02it/s]\n",
            "cached-property-1.5. | 11 KB     | : 100% 1.0/1 [00:00<00:00, 16.29it/s]\n",
            "numpy-1.20.2         | 23 KB     | : 100% 1.0/1 [00:00<00:00, 16.58it/s]\n",
            "dbus-1.13.18         | 504 KB    | : 100% 1.0/1 [00:00<00:00, 10.74it/s]\n",
            "conda-4.10.3         | 2.9 MB    | : 100% 1.0/1 [00:00<00:00,  5.94it/s]\n",
            "cycler-0.10.0        | 13 KB     | : 100% 1.0/1 [00:00<00:00, 16.40it/s]\n",
            "ipython_genutils-0.2 | 27 KB     | : 100% 1.0/1 [00:00<00:00, 14.01it/s]\n",
            "hdf5-1.10.6          | 3.7 MB    | : 100% 1.0/1 [00:00<00:00,  5.22it/s]\n",
            "attrs-21.2.0         | 46 KB     | : 100% 1.0/1 [00:00<00:00, 15.83it/s]\n",
            "matplotlib-3.3.4     | 26 KB     | : 100% 1.0/1 [00:00<00:00, 13.70it/s]\n",
            "libgfortran4-7.5.0   | 995 KB    | : 100% 1.0/1 [00:00<00:00, 10.27it/s]\n",
            "openjpeg-2.3.0       | 301 KB    | : 100% 1.0/1 [00:00<00:00, 12.79it/s]\n",
            "webencodings-0.5.1   | 19 KB     | : 100% 1.0/1 [00:00<00:00, 15.77it/s]\n",
            "jedi-0.17.0          | 775 KB    | : 100% 1.0/1 [00:00<00:00,  5.35it/s]\n",
            "qtconsole-5.1.0      | 98 KB     | : 100% 1.0/1 [00:00<00:00, 14.09it/s]\n",
            "jupyterlab_pygments- | 8 KB      | : 100% 1.0/1 [00:00<00:00, 16.68it/s]\n",
            "nbclient-0.5.3       | 62 KB     | : 100% 1.0/1 [00:00<00:00, 15.96it/s]\n",
            "nbformat-5.1.3       | 44 KB     | : 100% 1.0/1 [00:00<00:00, 15.35it/s]\n",
            "entrypoints-0.3      | 12 KB     | : 100% 1.0/1 [00:00<00:00, 16.03it/s]\n",
            "wcwidth-0.2.5        | 29 KB     | : 100% 1.0/1 [00:00<00:00, 14.22it/s]\n",
            "send2trash-1.5.0     | 14 KB     | : 100% 1.0/1 [00:00<00:00, 14.02it/s]\n",
            "prompt-toolkit-3.0.1 | 256 KB    | : 100% 1.0/1 [00:00<00:00, 12.59it/s]\n",
            "mkl-service-2.3.0    | 55 KB     | : 100% 1.0/1 [00:00<00:00, 15.73it/s]\n",
            "ipykernel-5.3.4      | 179 KB    | : 100% 1.0/1 [00:00<00:00, 13.47it/s]\n",
            "markupsafe-2.0.1     | 21 KB     | : 100% 1.0/1 [00:00<00:00, 15.98it/s]\n",
            "zipp-3.5.0           | 13 KB     | : 100% 1.0/1 [00:00<00:00, 16.16it/s]\n",
            "jupyter_client-6.1.1 | 88 KB     | : 100% 1.0/1 [00:00<00:00, 15.53it/s]\n",
            "jpeg-9b              | 214 KB    | : 100% 1.0/1 [00:00<00:00, 14.06it/s]\n",
            "packaging-21.0       | 36 KB     | : 100% 1.0/1 [00:00<00:00, 15.31it/s]\n",
            "zstd-1.3.7           | 401 KB    | : 100% 1.0/1 [00:00<00:00, 13.33it/s]\n",
            "defusedxml-0.7.1     | 23 KB     | : 100% 1.0/1 [00:00<00:00, 16.53it/s]\n",
            "pickleshare-0.7.5    | 13 KB     | : 100% 1.0/1 [00:00<00:00, 15.81it/s]\n",
            "pyrsistent-0.17.3    | 89 KB     | : 100% 1.0/1 [00:00<00:00, 15.08it/s]\n",
            "jinja2-3.0.1         | 110 KB    | : 100% 1.0/1 [00:00<00:00, 15.60it/s]\n",
            "numpy-base-1.20.2    | 4.5 MB    | : 100% 1.0/1 [00:00<00:00,  2.26it/s]\n",
            "backcall-0.2.0       | 13 KB     | : 100% 1.0/1 [00:00<00:00, 34.39it/s]\n",
            "pyzmq-20.0.0         | 439 KB    | : 100% 1.0/1 [00:00<00:00,  9.12it/s]\n",
            "importlib-metadata-3 | 33 KB     | : 100% 1.0/1 [00:00<00:00, 15.64it/s]\n",
            "tornado-6.1          | 589 KB    | : 100% 1.0/1 [00:00<00:00,  9.09it/s]\n",
            "libxcb-1.14          | 505 KB    | : 100% 1.0/1 [00:00<00:00, 10.34it/s]\n",
            "libgfortran-ng-7.5.0 | 22 KB     | : 100% 1.0/1 [00:00<00:00, 14.36it/s]\n",
            "libsodium-1.0.18     | 244 KB    | : 100% 1.0/1 [00:00<00:00, 10.17it/s]\n",
            "expat-2.4.1          | 168 KB    | : 100% 1.0/1 [00:00<00:00, 11.90it/s]\n",
            "mkl_fft-1.3.0        | 170 KB    | : 100% 1.0/1 [00:00<00:00, 13.48it/s]\n",
            "intel-openmp-2021.2. | 1.3 MB    | : 100% 1.0/1 [00:00<00:00,  8.71it/s]\n",
            "blas-1.0             | 6 KB      | : 100% 1.0/1 [00:00<00:00, 16.39it/s]\n",
            "decorator-5.0.9      | 12 KB     | : 100% 1.0/1 [00:00<00:00, 16.41it/s]\n",
            "typing_extensions-3. | 27 KB     | : 100% 1.0/1 [00:00<00:00, 16.31it/s]\n",
            "pcre-8.45            | 207 KB    | : 100% 1.0/1 [00:00<00:00, 14.82it/s]\n",
            "ipywidgets-7.6.3     | 105 KB    | : 100% 1.0/1 [00:00<00:00, 13.80it/s]\n",
            "async_generator-1.10 | 39 KB     | : 100% 1.0/1 [00:00<00:00, 15.75it/s]\n",
            "importlib_metadata-3 | 11 KB     | : 100% 1.0/1 [00:00<00:00, 16.44it/s]\n",
            "pyqt-5.9.2           | 4.5 MB    | : 100% 1.0/1 [00:00<00:00,  3.41it/s]\n",
            "pillow-8.3.1         | 635 KB    | : 100% 1.0/1 [00:00<00:00, 10.29it/s]\n",
            "matplotlib-base-3.3. | 5.1 MB    | : 100% 1.0/1 [00:00<00:00,  3.72it/s]\n",
            "gstreamer-1.14.0     | 3.1 MB    | : 100% 1.0/1 [00:00<00:00,  6.22it/s]\n",
            "jsonschema-3.2.0     | 47 KB     | : 100% 1.0/1 [00:00<00:00, 15.59it/s]\n",
            "icu-58.2             | 10.5 MB   | : 100% 1.0/1 [00:00<00:00,  1.89it/s]               \n",
            "sip-4.19.8           | 274 KB    | : 100% 1.0/1 [00:00<00:00,  1.74it/s]\n",
            "widgetsnbextension-3 | 862 KB    | : 100% 1.0/1 [00:00<00:00, 10.91it/s]\n",
            "fontconfig-2.13.0    | 227 KB    | : 100% 1.0/1 [00:00<00:00, 13.83it/s]\n",
            "testpath-0.5.0       | 81 KB     | : 100% 1.0/1 [00:00<00:00, 13.75it/s]\n",
            "mistune-0.8.4        | 54 KB     | : 100% 1.0/1 [00:00<00:00, 11.61it/s]\n",
            "h5py-3.2.1           | 1.0 MB    | : 100% 1.0/1 [00:00<00:00,  8.65it/s]\n",
            "olefile-0.46         | 50 KB     | : 100% 1.0/1 [00:00<00:00, 16.07it/s]\n",
            "libtiff-4.1.0        | 447 KB    | : 100% 1.0/1 [00:00<00:00, 12.37it/s]\n",
            "prometheus_client-0. | 47 KB     | : 100% 1.0/1 [00:00<00:00, 15.72it/s]\n",
            "notebook-6.4.0       | 4.1 MB    | : 100% 1.0/1 [00:00<00:00,  2.94it/s]\n",
            "ptyprocess-0.7.0     | 17 KB     | : 100% 1.0/1 [00:00<00:00, 17.15it/s]\n",
            "qtpy-1.9.0           | 38 KB     | : 100% 1.0/1 [00:00<00:00, 15.29it/s]\n",
            "parso-0.8.2          | 69 KB     | : 100% 1.0/1 [00:00<00:00, 15.71it/s]\n",
            "libuuid-1.0.3        | 15 KB     | : 100% 1.0/1 [00:00<00:00, 15.39it/s]\n",
            "bleach-3.3.0         | 113 KB    | : 100% 1.0/1 [00:00<00:00, 14.00it/s]\n",
            "jupyter_core-4.7.1   | 68 KB     | : 100% 1.0/1 [00:00<00:00, 14.58it/s]\n",
            "libxml2-2.9.9        | 1.6 MB    | : 100% 1.0/1 [00:00<00:00,  7.54it/s]\n",
            "libpng-1.6.37        | 278 KB    | : 100% 1.0/1 [00:00<00:00, 13.49it/s]\n",
            "ipython-7.22.0       | 992 KB    | : 100% 1.0/1 [00:00<00:00,  7.51it/s]\n",
            "gst-plugins-base-1.1 | 4.8 MB    | : 100% 1.0/1 [00:00<00:00,  3.97it/s]\n",
            "freetype-2.10.4      | 596 KB    | : 100% 1.0/1 [00:00<00:00,  7.98it/s]\n",
            "pandocfilters-1.4.3  | 14 KB     | : 100% 1.0/1 [00:00<00:00, 13.41it/s]\n",
            "openssl-1.1.1k       | 2.5 MB    | : 100% 1.0/1 [00:00<00:00,  5.10it/s]\n",
            "traitlets-5.0.5      | 81 KB     | : 100% 1.0/1 [00:00<00:00, 19.46it/s]\n",
            "mkl-2021.2.0         | 144.3 MB  | : 100% 1.0/1 [00:14<00:00, 14.44s/it]               \n",
            "nbconvert-6.1.0      | 483 KB    | : 100% 1.0/1 [00:00<00:00,  8.68it/s]\n",
            "ca-certificates-2021 | 113 KB    | : 100% 1.0/1 [00:00<00:00, 15.49it/s]\n",
            "cantera-2.5.1        | 3.7 MB    | : 100% 1.0/1 [00:02<00:00,  2.33s/it]\n",
            "jupyter-1.0.0        | 6 KB      | : 100% 1.0/1 [00:00<00:00, 17.19it/s]\n",
            "zeromq-4.3.4         | 331 KB    | : 100% 1.0/1 [00:00<00:00, 13.72it/s]\n",
            "python-dateutil-2.8. | 221 KB    | : 100% 1.0/1 [00:00<00:00, 17.53it/s]\n",
            "pexpect-4.8.0        | 53 KB     | : 100% 1.0/1 [00:00<00:00, 15.76it/s]\n",
            "Preparing transaction: - \b\b\\ \b\b| \b\b/ \b\b- \b\b\\ \b\b| \b\b/ \b\b- \b\bdone\n",
            "Verifying transaction: | \b\b/ \b\b- \b\b\\ \b\b| \b\b/ \b\b- \b\b\\ \b\b| \b\b/ \b\b- \b\b\\ \b\b| \b\b/ \b\b- \b\b\\ \b\b| \b\b/ \b\b- \b\b\\ \b\b| \b\b/ \b\b- \b\b\\ \b\b| \b\b/ \b\b- \b\b\\ \b\b| \b\b/ \b\b- \b\b\\ \b\b| \b\bdone\n",
            "Executing transaction: - \b\b\\ \b\b| \b\b/ \b\b- \b\b\\ \b\b| \b\b/ \b\b- \b\b\\ \b\b| \b\b/ \b\b- \b\b\\ \b\b| \b\b/ \b\b- \b\b\\ \b\b| \b\b/ \b\b- \b\b\\ \b\b| \b\b/ \b\b- \b\b\\ \b\b| \b\b/ \b\b- \b\b\\ \b\b| \b\b/ \b\b- \b\b\\ \b\b| \b\b/ \b\b- \b\b\\ \b\b| \b\b/ \b\b- \b\b\\ \b\b| \b\b/ \b\b- \b\b\\ \b\b| \b\b/ \b\b- \b\b\\ \b\b| \b\b/ \b\b- \b\b\\ \b\b| \b\b/ \b\b- \b\b\\ \b\b| \b\b/ \b\b- \b\b\\ \b\b| \b\b/ \b\b- \b\b\\ \b\b| \b\b/ \b\b- \b\b\\ \b\b| \b\b/ \b\b- \b\b\\ \b\b| \b\b/ \b\b- \b\b\\ \b\b| \b\b/ \b\b- \b\b\\ \b\b| \b\b/ \b\b- \b\b\\ \b\b| \b\b/ \b\b- \b\b\\ \b\b| \b\b/ \b\b- \b\b\\ \b\b| \b\b/ \b\b- \b\b\\ \b\b| \b\b/ \b\b- \b\b\\ \b\b| \b\b/ \b\b- \b\b\\ \b\b| \b\b/ \b\b- \b\b\\ \b\b| \b\b/ \b\b- \b\b\\ \b\b| \b\b/ \b\b- \b\b\\ \b\b| \b\b/ \b\b- \b\b\\ \b\b| \b\b/ \b\b- \b\b\\ \b\b| \b\b/ \b\b- \b\b\\ \b\b| \b\b/ \b\b- \b\b\\ \b\b| \b\b/ \b\b- \b\b\\ \b\b| \b\b/ \b\b- \b\b\\ \b\b| \b\b/ \b\b- \b\b\\ \b\b| \b\b/ \b\b- \b\b\\ \b\b| \b\b/ \b\b- \b\b\\ \b\b| \b\b/ \b\b- \b\b\\ \b\b| \b\b/ \b\b- \b\b\\ \b\b| \b\b/ \b\b- \b\b\\ \b\b| \b\b/ \b\b- \b\b\\ \b\b| \b\b/ \b\b- \b\b\\ \b\b| \b\b/ \b\b- \b\b\\ \b\b| \b\b/ \b\b- \b\b\\ \b\b| \b\b/ \b\b- \b\b\\ \b\b| \b\b/ \b\b- \b\b\\ \b\b| \b\b/ \b\b- \b\b\\ \b\b| \b\b/ \b\b- \b\b\\ \b\b| \b\b/ \b\b- \b\b\\ \b\bdone\n"
          ],
          "name": "stdout"
        }
      ]
    },
    {
      "cell_type": "code",
      "metadata": {
        "id": "GY7loASU829i"
      },
      "source": [
        "import cantera as ct\n",
        "import numpy as np"
      ],
      "execution_count": 2,
      "outputs": []
    },
    {
      "cell_type": "markdown",
      "metadata": {
        "id": "pYK1e1ns95hB"
      },
      "source": [
        "# Working With Mechanism Files\n",
        "reference: https://cantera.org/tutorials/python-tutorial.html"
      ]
    },
    {
      "cell_type": "markdown",
      "metadata": {
        "id": "hPaLaiJR-HB3"
      },
      "source": [
        "Several other reaction mechanism files are included with Cantera, including ones that model high- temperature air, a hydrogen/oxygen reaction mechanism, and a few surface reaction mechanisms. These files are usually located in the data subdirectory of the Cantera installation directory, for example C:\\\\Program Files\\\\Cantera\\\\data on Windows or /usr/local/cantera/data/ on Unix/Linux/Mac OS X machines, depending on how you installed Cantera and the options you specified.\n",
        "\n",
        "If for some reason Cantera has difficulty finding where these files are on your system, set environment variable CANTERA_DATA to the directory or directories (separated using ; on Windows or : on other operating systems) where they are located. Alternatively, you can call function add_directory to add a directory to the Cantera search path:"
      ]
    },
    {
      "cell_type": "code",
      "metadata": {
        "id": "c-o_gv4i94pC"
      },
      "source": [
        "ct.add_directory('~/cantera/my_data_files')"
      ],
      "execution_count": 3,
      "outputs": []
    },
    {
      "cell_type": "markdown",
      "metadata": {
        "id": "qP-x-wgQ-MDX"
      },
      "source": [
        "Cantera input files are plain text files, and can be created with any text editor."
      ]
    },
    {
      "cell_type": "markdown",
      "metadata": {
        "id": "S_VHYHqU-PV-"
      },
      "source": [
        "A Cantera input file may contain more than one phase specification, or may contain specifications of interfaces (surfaces). Here we import definitions of two bulk phases and the interface between them from file diamond.yaml:"
      ]
    },
    {
      "cell_type": "code",
      "metadata": {
        "colab": {
          "base_uri": "https://localhost:8080/"
        },
        "id": "Y3xAbsa2-Itm",
        "outputId": "63452cd6-2cc0-42f8-f299-2f640df26841"
      },
      "source": [
        "gas2 = ct.Solution('diamond.yaml', 'gas')\n",
        "gas2()"
      ],
      "execution_count": 5,
      "outputs": [
        {
          "output_type": "stream",
          "text": [
            "\n",
            "  gas:\n",
            "\n",
            "       temperature   1200 K\n",
            "          pressure   2666.4 Pa\n",
            "           density   0.00057641 kg/m^3\n",
            "  mean mol. weight   2.1568 kg/kmol\n",
            "   phase of matter   gas\n",
            "\n",
            "                          1 kg             1 kmol     \n",
            "                     ---------------   ---------------\n",
            "          enthalpy        1.2418e+07        2.6783e+07  J\n",
            "   internal energy         7.792e+06        1.6806e+07  J\n",
            "           entropy             94362        2.0352e+05  J/K\n",
            "    Gibbs function       -1.0082e+08       -2.1744e+08  J\n",
            " heat capacity c_p             14600             31490  J/K\n",
            " heat capacity c_v             10745             23176  J/K\n",
            "\n",
            "                      mass frac. Y      mole frac. X     chem. pot. / RT\n",
            "                     ---------------   ---------------   ---------------\n",
            "                 H        0.00093452         0.0019996           -3.4029\n",
            "                H2            0.9233            0.9878           -21.627\n",
            "               CH3         0.0013939        0.00019996           -24.284\n",
            "               CH4          0.074367          0.009998           -41.851\n",
            "\n"
          ],
          "name": "stdout"
        }
      ]
    },
    {
      "cell_type": "code",
      "metadata": {
        "colab": {
          "base_uri": "https://localhost:8080/"
        },
        "id": "iBD3WMJP-Qs-",
        "outputId": "5c95a1f0-5340-43cc-b80e-61255fdcdec9"
      },
      "source": [
        "diamond = ct.Solution('diamond.yaml', 'diamond')\n",
        "diamond()"
      ],
      "execution_count": 6,
      "outputs": [
        {
          "output_type": "stream",
          "text": [
            "\n",
            "  diamond:\n",
            "\n",
            "       temperature   298.15 K\n",
            "          pressure   1.0132e+05 Pa\n",
            "           density   3520 kg/m^3\n",
            "  mean mol. weight   12.011 kg/kmol\n",
            "   phase of matter   unspecified\n",
            "\n",
            "                          1 kg             1 kmol     \n",
            "                     ---------------   ---------------\n",
            "          enthalpy                 0                 0  J\n",
            "   internal energy           -28.786           -345.74  J\n",
            "           entropy                 0                 0  J/K\n",
            "    Gibbs function                 0                 0  J\n",
            " heat capacity c_p                 0                 0  J/K\n",
            " heat capacity c_v                 0                 0  J/K\n",
            "\n",
            "                      mass frac. Y      mole frac. X     chem. pot. / RT\n",
            "                     ---------------   ---------------   ---------------\n",
            "              C(d)                 1                 1                 0\n",
            "\n"
          ],
          "name": "stdout"
        }
      ]
    },
    {
      "cell_type": "code",
      "metadata": {
        "colab": {
          "base_uri": "https://localhost:8080/"
        },
        "id": "pynOL9yA-VZF",
        "outputId": "8e9328ce-f86a-4181-faa0-a688f533d755"
      },
      "source": [
        "diamond_surf = ct.Interface('diamond.yaml' , 'diamond_100', [gas2, diamond])\n",
        "diamond_surf()"
      ],
      "execution_count": 7,
      "outputs": [
        {
          "output_type": "stream",
          "text": [
            "\n",
            "  diamond_100:\n",
            "\n",
            "       temperature   1200 K\n",
            "          pressure   1.0132e+05 Pa\n",
            "           density   5.7456e-08 kg/m^3\n",
            "  mean mol. weight   1.9152 kg/kmol\n",
            "   phase of matter   unspecified\n",
            "\n",
            "                          1 kg             1 kmol     \n",
            "                     ---------------   ---------------\n",
            "          enthalpy        3.3709e+07        6.4559e+07  J\n",
            "   internal energy        3.3709e+07        6.4559e+07  J\n",
            "           entropy             46961             89939  J/K\n",
            "    Gibbs function       -2.2644e+07       -4.3368e+07  J\n",
            " heat capacity c_p                 0                 0  J/K\n",
            " heat capacity c_v                 0                 0  J/K\n",
            "\n",
            "                      mass frac. Y      mole frac. X     chem. pot. / RT\n",
            "                     ---------------   ---------------   ---------------\n",
            "              c6HH           0.94737               0.9           -5.8924\n",
            "              c6H*          0.052632               0.1             9.565\n",
            "     [   +6 minor]                 0                 0  \n",
            "\n"
          ],
          "name": "stdout"
        }
      ]
    },
    {
      "cell_type": "markdown",
      "metadata": {
        "id": "Kqp5evBj-rqj"
      },
      "source": [
        "# Chemical Equilibrium\n",
        "To set a gas mixture to a state of chemical equilibrium, use the equilibrate method:"
      ]
    },
    {
      "cell_type": "code",
      "metadata": {
        "colab": {
          "base_uri": "https://localhost:8080/"
        },
        "id": "PVnd_kbe-Zvc",
        "outputId": "041f6d6f-4c3d-4fe5-f825-e59911cd262b"
      },
      "source": [
        "import cantera as ct\n",
        "g = ct.Solution('gri30.yaml')\n",
        "g.TPX = 300.0, ct.one_atm, 'CH4:0.95,O2:2,N2:7.52'\n",
        "g.equilibrate('TP')\n",
        "g()"
      ],
      "execution_count": 8,
      "outputs": [
        {
          "output_type": "stream",
          "text": [
            "\n",
            "  gri30:\n",
            "\n",
            "       temperature   300 K\n",
            "          pressure   1.0133e+05 Pa\n",
            "           density   1.1248 kg/m^3\n",
            "  mean mol. weight   27.689 kg/kmol\n",
            "   phase of matter   gas\n",
            "\n",
            "                          1 kg             1 kmol     \n",
            "                     ---------------   ---------------\n",
            "          enthalpy       -2.8723e+06       -7.9532e+07  J\n",
            "   internal energy       -2.9624e+06       -8.2026e+07  J\n",
            "           entropy            7226.6         2.001e+05  J/K\n",
            "    Gibbs function       -5.0403e+06       -1.3956e+08  J\n",
            " heat capacity c_p            1106.5             30638  J/K\n",
            " heat capacity c_v            806.22             22323  J/K\n",
            "\n",
            "                      mass frac. Y      mole frac. X     chem. pot. / RT\n",
            "                     ---------------   ---------------   ---------------\n",
            "                O2          0.011038         0.0095511           -29.325\n",
            "               H2O           0.11807           0.18147           -121.37\n",
            "               CO2           0.14422          0.090735           -185.87\n",
            "               NO2        1.0069e-11        6.0604e-12           -41.007\n",
            "                N2           0.72668           0.71824           -23.364\n",
            "     [  +48 minor]        5.1542e-17        4.7534e-17  \n",
            "\n"
          ],
          "name": "stdout"
        }
      ]
    },
    {
      "cell_type": "markdown",
      "metadata": {
        "id": "rCajvd-T_NcA"
      },
      "source": [
        "the specific enthalpy and pressure can be held fixed:"
      ]
    },
    {
      "cell_type": "code",
      "metadata": {
        "id": "lr1PJW-m_FB4"
      },
      "source": [
        "g.TPX = 300.0, ct.one_atm, 'CH4:0.95,O2:2,N2:7.52'\n",
        "g.equilibrate('HP')"
      ],
      "execution_count": 9,
      "outputs": []
    },
    {
      "cell_type": "markdown",
      "metadata": {
        "id": "uv5b94ie_RLQ"
      },
      "source": [
        "Other options are:\n",
        "\n",
        "* UV fixed specific internal energy and specific volume\n",
        "* SV fixed specific entropy and specific volume\n",
        "* SP fixed specific entropy and pressure"
      ]
    },
    {
      "cell_type": "markdown",
      "metadata": {
        "id": "DccgKUxn_1hU"
      },
      "source": [
        "How can you tell if equilibrate has correctly found the chemical equilibrium state? One way is verify that the net rates of progress of all reversible reactions are zero. Here is the code to do this:"
      ]
    },
    {
      "cell_type": "code",
      "metadata": {
        "colab": {
          "base_uri": "https://localhost:8080/"
        },
        "id": "f81UIPkR_Pg3",
        "outputId": "630fe9b3-5801-4a17-cb48-3de2d9bc0776"
      },
      "source": [
        "g.TPX = 300.0, ct.one_atm, 'CH4:0.95,O2:2,N2:7.52'\n",
        "g.equilibrate('HP')\n",
        "\n",
        "rf = g.forward_rates_of_progress\n",
        "rr = g.reverse_rates_of_progress\n",
        "for i in range(g.n_reactions):\n",
        "  if g.is_reversible(i) and rf[i] != 0.0:\n",
        "    print(' %4i  %10.4g  ' % (i, (rf[i] - rr[i])/rf[i]))"
      ],
      "execution_count": 10,
      "outputs": [
        {
          "output_type": "stream",
          "text": [
            "    0           0  \n",
            "    1  -1.666e-15  \n",
            "    2  -5.904e-16  \n",
            "    3  -7.293e-15  \n",
            "    4  -1.893e-15  \n",
            "    5   1.503e-15  \n",
            "    6   8.915e-15  \n",
            "    7           0  \n",
            "    8   5.431e-15  \n",
            "    9  -3.808e-15  \n",
            "   10   5.238e-15  \n",
            "   11           0  \n",
            "   12   -2.15e-16  \n",
            "   13   1.505e-15  \n",
            "   14  -3.435e-15  \n",
            "   15  -7.457e-15  \n",
            "   16  -3.312e-15  \n",
            "   17  -8.898e-15  \n",
            "   18  -6.361e-15  \n",
            "   19  -3.765e-15  \n",
            "   20  -2.766e-15  \n",
            "   21  -1.421e-15  \n",
            "   22  -7.336e-15  \n",
            "   23   1.968e-14  \n",
            "   24   1.247e-14  \n",
            "   25   1.043e-14  \n",
            "   26  -1.057e-14  \n",
            "   27    1.44e-15  \n",
            "   28   -7.34e-15  \n",
            "   29  -1.104e-14  \n",
            "   30   9.262e-15  \n",
            "   31  -2.375e-15  \n",
            "   32  -1.493e-15  \n",
            "   33   5.654e-15  \n",
            "   34   5.617e-15  \n",
            "   35  -7.621e-15  \n",
            "   37  -5.043e-15  \n",
            "   38  -3.131e-15  \n",
            "   39  -3.315e-15  \n",
            "   40   -3.23e-15  \n",
            "   41  -3.492e-15  \n",
            "   42    2.19e-15  \n",
            "   43           0  \n",
            "   44  -7.483e-15  \n",
            "   45  -5.518e-15  \n",
            "   46  -8.064e-15  \n",
            "   47  -1.937e-15  \n",
            "   48  -4.556e-15  \n",
            "   49   9.261e-15  \n",
            "   50   1.151e-15  \n",
            "   51  -5.106e-15  \n",
            "   52  -5.775e-16  \n",
            "   53  -5.163e-15  \n",
            "   54   -5.43e-15  \n",
            "   55   -2.45e-15  \n",
            "   56  -6.151e-15  \n",
            "   57  -3.504e-15  \n",
            "   58           0  \n",
            "   59  -5.358e-15  \n",
            "   60   4.102e-15  \n",
            "   61  -3.199e-15  \n",
            "   62   5.757e-15  \n",
            "   63   4.838e-15  \n",
            "   64  -1.596e-15  \n",
            "   65   8.425e-15  \n",
            "   66   9.137e-16  \n",
            "   67  -8.048e-15  \n",
            "   68  -1.252e-14  \n",
            "   69   1.953e-15  \n",
            "   70  -1.362e-14  \n",
            "   71  -1.462e-15  \n",
            "   72   1.606e-14  \n",
            "   73   1.909e-15  \n",
            "   74  -8.393e-15  \n",
            "   75   1.902e-15  \n",
            "   76  -8.988e-15  \n",
            "   77  -9.642e-15  \n",
            "   78  -4.589e-15  \n",
            "   79  -1.344e-14  \n",
            "   80  -5.444e-15  \n",
            "   81   1.856e-15  \n",
            "   82   2.614e-16  \n",
            "   83   4.796e-15  \n",
            "   84   5.677e-15  \n",
            "   85   5.407e-15  \n",
            "   86  -8.848e-15  \n",
            "   87   3.648e-15  \n",
            "   88   3.754e-15  \n",
            "   89   1.717e-15  \n",
            "   90   1.644e-15  \n",
            "   91   1.075e-14  \n",
            "   92   1.266e-14  \n",
            "   93   1.667e-15  \n",
            "   94  -3.514e-15  \n",
            "   95  -8.372e-15  \n",
            "   96  -7.492e-15  \n",
            "   97   4.549e-15  \n",
            "   98   1.085e-15  \n",
            "   99   7.129e-15  \n",
            "  100   1.435e-14  \n",
            "  101   1.054e-14  \n",
            "  102   1.108e-14  \n",
            "  103  -9.569e-15  \n",
            "  104  -7.783e-15  \n",
            "  105  -1.026e-15  \n",
            "  106   5.195e-15  \n",
            "  107   3.539e-15  \n",
            "  108    3.65e-15  \n",
            "  109   2.018e-16  \n",
            "  110   2.133e-14  \n",
            "  111  -3.452e-15  \n",
            "  112   8.056e-15  \n",
            "  113  -1.945e-15  \n",
            "  114   6.463e-16  \n",
            "  115   5.877e-16  \n",
            "  116  -3.895e-15  \n",
            "  117  -1.287e-14  \n",
            "  118  -7.707e-15  \n",
            "  119  -5.816e-15  \n",
            "  120    1.16e-14  \n",
            "  121   2.128e-16  \n",
            "  122   7.042e-15  \n",
            "  123  -1.831e-15  \n",
            "  124   3.332e-16  \n",
            "  125  -4.896e-15  \n",
            "  126  -3.543e-15  \n",
            "  127   5.461e-15  \n",
            "  128  -1.607e-14  \n",
            "  129  -7.277e-15  \n",
            "  130  -7.764e-16  \n",
            "  131   3.844e-15  \n",
            "  132   7.471e-15  \n",
            "  133   7.276e-15  \n",
            "  135   9.911e-15  \n",
            "  136   1.798e-14  \n",
            "  137  -5.628e-15  \n",
            "  138   1.228e-14  \n",
            "  139   1.113e-14  \n",
            "  140  -7.281e-15  \n",
            "  141  -7.384e-15  \n",
            "  143    8.77e-15  \n",
            "  144    7.28e-15  \n",
            "  145   9.172e-15  \n",
            "  146   3.868e-15  \n",
            "  147  -1.205e-15  \n",
            "  148  -7.176e-15  \n",
            "  149   1.176e-14  \n",
            "  150  -1.198e-15  \n",
            "  151  -1.335e-15  \n",
            "  152   7.176e-15  \n",
            "  153   2.299e-15  \n",
            "  154  -6.472e-15  \n",
            "  155   -8.93e-15  \n",
            "  156  -7.916e-16  \n",
            "  157  -7.023e-15  \n",
            "  158  -8.786e-15  \n",
            "  159  -5.579e-15  \n",
            "  160  -2.529e-15  \n",
            "  161  -1.397e-14  \n",
            "  162  -1.156e-14  \n",
            "  163  -7.874e-15  \n",
            "  164   -9.26e-15  \n",
            "  165  -4.916e-15  \n",
            "  166   2.188e-15  \n",
            "  167   1.029e-15  \n",
            "  168  -5.193e-15  \n",
            "  169   5.592e-15  \n",
            "  170           0  \n",
            "  171   4.616e-15  \n",
            "  172    7.23e-15  \n",
            "  173    1.51e-14  \n",
            "  174   -2.66e-15  \n",
            "  175  -7.269e-15  \n",
            "  176   1.071e-14  \n",
            "  177   1.794e-16  \n",
            "  178  -1.763e-15  \n",
            "  179  -2.555e-16  \n",
            "  180   7.015e-15  \n",
            "  181   1.486e-15  \n",
            "  182   2.037e-15  \n",
            "  183   1.023e-15  \n",
            "  184  -1.499e-16  \n",
            "  185  -3.991e-15  \n",
            "  186   2.244e-16  \n",
            "  187  -3.979e-15  \n",
            "  188  -1.976e-15  \n",
            "  189   -2.02e-15  \n",
            "  190  -4.571e-15  \n",
            "  191   1.674e-15  \n",
            "  192    3.65e-15  \n",
            "  193  -3.056e-15  \n",
            "  194  -7.069e-15  \n",
            "  195  -1.533e-15  \n",
            "  196  -3.043e-15  \n",
            "  197   2.869e-16  \n",
            "  198  -2.213e-15  \n",
            "  199  -1.016e-15  \n",
            "  200   8.338e-16  \n",
            "  201  -4.305e-15  \n",
            "  202  -3.014e-15  \n",
            "  203   6.806e-16  \n",
            "  204   5.749e-16  \n",
            "  205  -1.784e-15  \n",
            "  206  -3.647e-15  \n",
            "  207  -8.683e-16  \n",
            "  208   -5.39e-15  \n",
            "  209   -3.28e-15  \n",
            "  210  -7.142e-15  \n",
            "  211   1.442e-15  \n",
            "  212  -3.947e-15  \n",
            "  213  -3.707e-15  \n",
            "  214   1.714e-15  \n",
            "  215   4.329e-15  \n",
            "  216  -3.708e-15  \n",
            "  217   7.395e-16  \n",
            "  218   5.221e-15  \n",
            "  219  -4.112e-15  \n",
            "  220   3.755e-15  \n",
            "  221   3.438e-15  \n",
            "  222  -1.712e-15  \n",
            "  223   1.102e-14  \n",
            "  224           0  \n",
            "  225  -1.532e-16  \n",
            "  226   1.491e-15  \n",
            "  227   9.008e-15  \n",
            "  228   1.066e-14  \n",
            "  229  -2.055e-15  \n",
            "  230  -3.614e-15  \n",
            "  231  -5.426e-15  \n",
            "  232  -4.302e-15  \n",
            "  233   -2.28e-15  \n",
            "  234  -5.151e-16  \n",
            "  235   2.723e-15  \n",
            "  236  -5.884e-15  \n",
            "  237  -3.477e-15  \n",
            "  238  -1.761e-15  \n",
            "  239  -1.369e-15  \n",
            "  240   3.798e-15  \n",
            "  241   1.135e-14  \n",
            "  242   3.614e-15  \n",
            "  243  -7.132e-16  \n",
            "  244  -3.364e-15  \n",
            "  245   2.051e-15  \n",
            "  246   -1.73e-15  \n",
            "  247  -1.595e-15  \n",
            "  248   1.269e-14  \n",
            "  249   1.253e-14  \n",
            "  250   1.304e-14  \n",
            "  251   5.411e-15  \n",
            "  252   7.233e-15  \n",
            "  253   5.674e-15  \n",
            "  254           0  \n",
            "  255   -1.45e-14  \n",
            "  256  -5.907e-15  \n",
            "  257  -3.815e-15  \n",
            "  258  -3.596e-15  \n",
            "  259   1.473e-15  \n",
            "  260  -1.586e-14  \n",
            "  261   2.278e-15  \n",
            "  262  -3.799e-15  \n",
            "  263  -9.475e-15  \n",
            "  264   2.761e-15  \n",
            "  265  -9.128e-15  \n",
            "  266   9.264e-15  \n",
            "  267   4.421e-15  \n",
            "  268  -2.158e-15  \n",
            "  269           0  \n",
            "  270           0  \n",
            "  271   1.995e-15  \n",
            "  272   2.709e-15  \n",
            "  273   3.363e-16  \n",
            "  274  -8.083e-15  \n",
            "  275  -3.722e-15  \n",
            "  276   7.517e-15  \n",
            "  277   1.275e-14  \n",
            "  278   6.865e-15  \n",
            "  279  -5.825e-15  \n",
            "  280  -2.274e-15  \n",
            "  281  -7.285e-15  \n",
            "  282  -1.695e-15  \n",
            "  284   1.853e-14  \n",
            "  285   1.609e-15  \n",
            "  286  -9.032e-15  \n",
            "  288   3.639e-15  \n",
            "  290   5.374e-15  \n",
            "  293   1.588e-14  \n",
            "  294   1.615e-14  \n",
            "  295    1.82e-14  \n",
            "  298   6.005e-15  \n",
            "  303  -1.052e-15  \n",
            "  307  -6.963e-15  \n",
            "  308   3.165e-16  \n",
            "  309   3.853e-15  \n",
            "  310  -1.047e-14  \n",
            "  311   7.986e-15  \n",
            "  312  -7.532e-15  \n",
            "  313  -1.351e-14  \n",
            "  314  -1.918e-15  \n",
            "  315   5.498e-15  \n",
            "  316  -6.197e-15  \n",
            "  317    4.31e-15  \n",
            "  318   -6.97e-15  \n",
            "  319   5.627e-15  \n",
            "  320  -3.213e-15  \n",
            "  321  -6.876e-15  \n",
            "  322     6.4e-15  \n",
            "  324  -1.193e-14  \n"
          ],
          "name": "stdout"
        }
      ]
    },
    {
      "cell_type": "markdown",
      "metadata": {
        "id": "6lH6DggGHxFU"
      },
      "source": [
        "If the magnitudes of the numbers in this list are all very small, then each reversible reaction is very nearly equilibrated, which only occurs if the gas is in chemical equilibrium."
      ]
    },
    {
      "cell_type": "markdown",
      "metadata": {
        "id": "mPyJkhSAH16r"
      },
      "source": [
        "You might be wondering how equilibrate works. Method equilibrate invokes **Cantera's chemical equilibrium solver**, which uses an e**lement potential method**. The element potential method is one of a **class of equivalent nonstoichiometric methods** that all have the characteristic that the problem reduces **to solving a set of MM nonlinear algebraic equations**, where MM is the number of elements (not species). The so-called stoichiometric methods, on the other hand, (including Gibbs minimization), require solving KK nonlinear equations, where KK is the number of species (usually K >> MK>>M). See Smith and Missen, \"Chemical Reaction Equilibrium Analysis\" for more information on the various algorithms and their characteristics.\n",
        "\n",
        "Cantera uses a damped Newton method to solve these equations, and does a few other things to generate a good starting guess and to produce a reasonably robust algorithm. If you want to know more about the details, look at the C++ code in **ChemEquil.h.**"
      ]
    },
    {
      "cell_type": "markdown",
      "metadata": {
        "id": "g2JvQ8c4ILmL"
      },
      "source": [
        "# Chemical Kinetics\n",
        "\n",
        "Solution() objects are also Kinetics() objects, and provide all of the methods necessary to compute the thermodynamic quantities associated with each reaction, reaction rates, and species creation and destruction rates. They also provide methods to inspect the quantities that define each reaction such as the rate constants and the stoichiometric coefficients. The rate calculation functions are used extensively within Cantera's reactor network model and 1D flame model."
      ]
    },
    {
      "cell_type": "code",
      "metadata": {
        "colab": {
          "base_uri": "https://localhost:8080/"
        },
        "id": "Z3ix5tMrHsZr",
        "outputId": "696e2911-ca39-4753-e99c-9c65c593d722"
      },
      "source": [
        "g = ct.Solution('gri30.yaml')\n",
        "r = g.reaction(2) # get a Reaction object\n",
        "r"
      ],
      "execution_count": 13,
      "outputs": [
        {
          "output_type": "execute_result",
          "data": {
            "text/plain": [
              "<ElementaryReaction: H2 + O <=> H + OH>"
            ]
          },
          "metadata": {
            "tags": []
          },
          "execution_count": 13
        }
      ]
    },
    {
      "cell_type": "code",
      "metadata": {
        "colab": {
          "base_uri": "https://localhost:8080/"
        },
        "id": "pQBkUWhGKByR",
        "outputId": "e2806bfc-be8e-4228-c643-fedbf05fbc47"
      },
      "source": [
        "r.reactants"
      ],
      "execution_count": 14,
      "outputs": [
        {
          "output_type": "execute_result",
          "data": {
            "text/plain": [
              "{'H2': 1.0, 'O': 1.0}"
            ]
          },
          "metadata": {
            "tags": []
          },
          "execution_count": 14
        }
      ]
    },
    {
      "cell_type": "code",
      "metadata": {
        "colab": {
          "base_uri": "https://localhost:8080/"
        },
        "id": "mTtbCxATKH5Y",
        "outputId": "c4608189-7965-4beb-f7ea-f7c852542ffc"
      },
      "source": [
        "r.products"
      ],
      "execution_count": 15,
      "outputs": [
        {
          "output_type": "execute_result",
          "data": {
            "text/plain": [
              "{'H': 1.0, 'OH': 1.0}"
            ]
          },
          "metadata": {
            "tags": []
          },
          "execution_count": 15
        }
      ]
    },
    {
      "cell_type": "code",
      "metadata": {
        "colab": {
          "base_uri": "https://localhost:8080/"
        },
        "id": "IFmEykRrKJU4",
        "outputId": "107e286d-2bb5-4282-c044-ad2bdfdc0225"
      },
      "source": [
        "r.rate"
      ],
      "execution_count": 16,
      "outputs": [
        {
          "output_type": "execute_result",
          "data": {
            "text/plain": [
              "Arrhenius(A=38.7, b=2.7, E=2.61918e+07)"
            ]
          },
          "metadata": {
            "tags": []
          },
          "execution_count": 16
        }
      ]
    },
    {
      "cell_type": "markdown",
      "metadata": {
        "id": "vCrdIKrWKO-i"
      },
      "source": [
        "If we are interested in only certain types of reactions, we can use this information to filter the full list of reactions to find the just the ones of interest. For example, here we find the indices of just those reactions which convert CO into CO2:"
      ]
    },
    {
      "cell_type": "code",
      "metadata": {
        "id": "Z6rZ9ZxZKLGg"
      },
      "source": [
        "II = [i for i,r in enumerate(g.reactions())\n",
        "if 'CO' in r.reactants and 'CO2' in r.products]"
      ],
      "execution_count": 19,
      "outputs": []
    },
    {
      "cell_type": "code",
      "metadata": {
        "colab": {
          "base_uri": "https://localhost:8080/"
        },
        "id": "w45txZTtKb-Y",
        "outputId": "42a64dba-2097-4932-b580-299f5151ac43"
      },
      "source": [
        "for i in II:\n",
        "  print(g.reaction(i).equation)"
      ],
      "execution_count": 20,
      "outputs": [
        {
          "output_type": "stream",
          "text": [
            "CO + O (+M) <=> CO2 (+M)\n",
            "CO + O2 <=> CO2 + O\n",
            "CO + OH <=> CO2 + H\n",
            "CO + HO2 <=> CO2 + OH\n"
          ],
          "name": "stdout"
        }
      ]
    },
    {
      "cell_type": "markdown",
      "metadata": {
        "id": "XTi5sVwOKuk4"
      },
      "source": [
        "(Actually, we should also include reactions where the reaction is written such that CO2 is a reactant and CO is a product, but for this example, we'll just stick to this smaller set of reactions.) Now, let's set the composition to an interesting equilibrium state:"
      ]
    },
    {
      "cell_type": "code",
      "metadata": {
        "id": "9pC4V8uLKeEo"
      },
      "source": [
        "g.TPX = 300, 101325, {'CH4':0.6, 'O2':1.0, 'N2':3.76}\n",
        "g.equilibrate('HP')"
      ],
      "execution_count": 21,
      "outputs": []
    },
    {
      "cell_type": "markdown",
      "metadata": {
        "id": "6bz4e_NkK0BQ"
      },
      "source": [
        "We can verify that this is an equilibrium state by seeing that the net reaction rates are essentially zero:"
      ]
    },
    {
      "cell_type": "code",
      "metadata": {
        "colab": {
          "base_uri": "https://localhost:8080/"
        },
        "id": "kpoTuOwEKxu2",
        "outputId": "0dc055aa-6586-431b-a967-5b3074e531be"
      },
      "source": [
        "g.net_rates_of_progress[II]"
      ],
      "execution_count": 23,
      "outputs": [
        {
          "output_type": "execute_result",
          "data": {
            "text/plain": [
              "array([-1.28749008e-19, -6.35274710e-21, -2.33146835e-15, -8.97854924e-20])"
            ]
          },
          "metadata": {
            "tags": []
          },
          "execution_count": 23
        }
      ]
    },
    {
      "cell_type": "markdown",
      "metadata": {
        "id": "96p8DMInK4Mu"
      },
      "source": [
        "Now, let's see what happens if we decrease the temperature of the mixture:"
      ]
    },
    {
      "cell_type": "code",
      "metadata": {
        "colab": {
          "base_uri": "https://localhost:8080/"
        },
        "id": "dfJ2x_GZK1Xt",
        "outputId": "70da50da-14d8-4967-b8e1-649f9aa251d4"
      },
      "source": [
        "g.TP = g.T-100, None\n",
        "g.net_rates_of_progress[II]"
      ],
      "execution_count": 24,
      "outputs": [
        {
          "output_type": "execute_result",
          "data": {
            "text/plain": [
              "array([3.18644907e-05, 5.00489883e-08, 1.05964910e-01, 2.89502678e-06])"
            ]
          },
          "metadata": {
            "tags": []
          },
          "execution_count": 24
        }
      ]
    },
    {
      "cell_type": "markdown",
      "metadata": {
        "id": "X8ybj2VFK-SA"
      },
      "source": [
        "All of the reaction rates are positive, favoring the formation of CO2 from CO, with the third reaction, CO + OH <=> CO2 + H proceeding the fastest. If we look at the enthalpy change associated with each of these reactions:"
      ]
    },
    {
      "cell_type": "code",
      "metadata": {
        "colab": {
          "base_uri": "https://localhost:8080/"
        },
        "id": "HebA7HlKK6iN",
        "outputId": "a4da782e-b4c0-4b86-d221-cf2b0a97e620"
      },
      "source": [
        "g.delta_enthalpy[II]"
      ],
      "execution_count": 25,
      "outputs": [
        {
          "output_type": "execute_result",
          "data": {
            "text/plain": [
              "array([-5.33034690e+08, -2.23248529e+07, -8.76650141e+07, -2.49169644e+08])"
            ]
          },
          "metadata": {
            "tags": []
          },
          "execution_count": 25
        }
      ]
    },
    {
      "cell_type": "markdown",
      "metadata": {
        "id": "TYXHhSxmLEmd"
      },
      "source": [
        "we see that the change is negative in each case, indicating a net release of thermal energy. The total heat release rate can be computed either from the reaction rates:"
      ]
    },
    {
      "cell_type": "code",
      "metadata": {
        "colab": {
          "base_uri": "https://localhost:8080/"
        },
        "id": "6GHiy7rrLByj",
        "outputId": "2bee5144-1c63-445c-b5b8-0cf33dc0e5d4"
      },
      "source": [
        "np.dot(g.net_rates_of_progress, g.delta_enthalpy)"
      ],
      "execution_count": 26,
      "outputs": [
        {
          "output_type": "execute_result",
          "data": {
            "text/plain": [
              "-58013369.598157085"
            ]
          },
          "metadata": {
            "tags": []
          },
          "execution_count": 26
        }
      ]
    },
    {
      "cell_type": "markdown",
      "metadata": {
        "id": "JzzTJf0aLI5P"
      },
      "source": [
        "or from the species production rates:"
      ]
    },
    {
      "cell_type": "code",
      "metadata": {
        "colab": {
          "base_uri": "https://localhost:8080/"
        },
        "id": "9tdhkL7nLGdc",
        "outputId": "1d6242c9-5721-42cc-cb44-581b46f3016a"
      },
      "source": [
        "np.dot(g.net_production_rates, g.partial_molar_enthalpies)"
      ],
      "execution_count": 27,
      "outputs": [
        {
          "output_type": "execute_result",
          "data": {
            "text/plain": [
              "-58013369.598157145"
            ]
          },
          "metadata": {
            "tags": []
          },
          "execution_count": 27
        }
      ]
    },
    {
      "cell_type": "markdown",
      "metadata": {
        "id": "zIGWEklSLLr2"
      },
      "source": [
        "The contribution from just the selected reactions is:"
      ]
    },
    {
      "cell_type": "code",
      "metadata": {
        "colab": {
          "base_uri": "https://localhost:8080/"
        },
        "id": "XFt8Mi5KLKDr",
        "outputId": "649381fc-07cc-4282-fb1e-533948d8044f"
      },
      "source": [
        "np.dot(g.net_rates_of_progress[II], g.delta_enthalpy[II])"
      ],
      "execution_count": 28,
      "outputs": [
        {
          "output_type": "execute_result",
          "data": {
            "text/plain": [
              "-9307122.69279439"
            ]
          },
          "metadata": {
            "tags": []
          },
          "execution_count": 28
        }
      ]
    },
    {
      "cell_type": "markdown",
      "metadata": {
        "id": "um6wxjI4LOcI"
      },
      "source": [
        "Or about 16% of the total heat release rate."
      ]
    }
  ]
}